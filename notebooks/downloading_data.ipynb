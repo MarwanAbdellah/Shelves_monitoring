{
 "cells": [
  {
   "cell_type": "code",
   "execution_count": 2,
   "id": "badce90e",
   "metadata": {},
   "outputs": [
    {
     "name": "stdout",
     "output_type": "stream",
     "text": [
      "e:\\Github\\Shelves_monitoring\n"
     ]
    }
   ],
   "source": [
    "%cd .."
   ]
  },
  {
   "cell_type": "code",
   "execution_count": null,
   "id": "6890e7af",
   "metadata": {},
   "outputs": [
    {
     "name": "stdout",
     "output_type": "stream",
     "text": [
      "loading Roboflow workspace...\n",
      "loading Roboflow project...\n"
     ]
    },
    {
     "name": "stderr",
     "output_type": "stream",
     "text": [
      "Downloading Dataset Version Zip in SKU-110k-6 to yolov11:: 100%|██████████| 9483097/9483097 [40:10<00:00, 3934.46it/s]  "
     ]
    },
    {
     "name": "stdout",
     "output_type": "stream",
     "text": [
      "\n"
     ]
    },
    {
     "name": "stderr",
     "output_type": "stream",
     "text": [
      "\n",
      "Extracting Dataset Version Zip to SKU-110k-6 in yolov11:: 100%|██████████| 20008/20008 [00:22<00:00, 903.20it/s] \n"
     ]
    }
   ],
   "source": [
    "from roboflow import Roboflow\n",
    "rf = Roboflow(api_key=\"api-key-here\")\n",
    "project = rf.workspace(\"jacobs-workspace\").project(\"sku-110k\")\n",
    "version = project.version(6)\n",
    "dataset = version.download(\"yolov11\")      "
   ]
  },
  {
   "cell_type": "code",
   "execution_count": null,
   "id": "debafbeb",
   "metadata": {},
   "outputs": [
    {
     "name": "stdout",
     "output_type": "stream",
     "text": [
      "loading Roboflow workspace...\n",
      "loading Roboflow project...\n"
     ]
    },
    {
     "name": "stderr",
     "output_type": "stream",
     "text": [
      "Downloading Dataset Version Zip in shelves-5 to yolov8-obb:: 100%|██████████| 1044467/1044467 [03:38<00:00, 4786.96it/s]"
     ]
    },
    {
     "name": "stdout",
     "output_type": "stream",
     "text": [
      "\n"
     ]
    },
    {
     "name": "stderr",
     "output_type": "stream",
     "text": [
      "\n",
      "Extracting Dataset Version Zip to shelves-5 in yolov8-obb:: 100%|██████████| 13848/13848 [00:06<00:00, 2271.10it/s]\n"
     ]
    }
   ],
   "source": [
    "from roboflow import Roboflow\n",
    "rf = Roboflow(api_key=\"api-key-here\")\n",
    "project = rf.workspace(\"shelfdetect-yzkro\").project(\"shelves-ugxt3\")\n",
    "version = project.version(5)\n",
    "dataset = version.download(\"yolov8-obb\")\n",
    "                "
   ]
  }
 ],
 "metadata": {
  "kernelspec": {
   "display_name": "shelves",
   "language": "python",
   "name": "python3"
  },
  "language_info": {
   "codemirror_mode": {
    "name": "ipython",
    "version": 3
   },
   "file_extension": ".py",
   "mimetype": "text/x-python",
   "name": "python",
   "nbconvert_exporter": "python",
   "pygments_lexer": "ipython3",
   "version": "3.11.11"
  }
 },
 "nbformat": 4,
 "nbformat_minor": 5
}
