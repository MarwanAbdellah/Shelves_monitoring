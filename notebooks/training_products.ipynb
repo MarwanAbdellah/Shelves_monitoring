{
 "cells": [
  {
   "cell_type": "code",
   "execution_count": 1,
   "id": "233391b4",
   "metadata": {},
   "outputs": [
    {
     "name": "stdout",
     "output_type": "stream",
     "text": [
      "e:\\Github\\Shelves_monitoring\n"
     ]
    }
   ],
   "source": [
    "%cd .."
   ]
  },
  {
   "cell_type": "markdown",
   "id": "029cd9f2",
   "metadata": {},
   "source": [
    "# Import Libraries"
   ]
  },
  {
   "cell_type": "code",
   "execution_count": 2,
   "id": "b949bc90",
   "metadata": {},
   "outputs": [],
   "source": [
    "import torch\n",
    "import torchvision\n",
    "from ultralytics import YOLO\n",
    "from roboflow import Roboflow\n",
    "from PIL import Image"
   ]
  },
  {
   "cell_type": "code",
   "execution_count": 3,
   "id": "e706c116",
   "metadata": {},
   "outputs": [
    {
     "name": "stdout",
     "output_type": "stream",
     "text": [
      "Torch: 2.7.1+cu118\n",
      "Torchvision: 0.22.1+cu118\n",
      "CUDA available: True\n"
     ]
    }
   ],
   "source": [
    "print(\"Torch:\", torch.__version__)\n",
    "print(\"Torchvision:\", torchvision.__version__)\n",
    "print(\"CUDA available:\", torch.cuda.is_available())\n"
   ]
  },
  {
   "cell_type": "markdown",
   "id": "700c7041",
   "metadata": {},
   "source": [
    "# Training our data"
   ]
  },
  {
   "cell_type": "code",
   "execution_count": 4,
   "id": "21709de1",
   "metadata": {},
   "outputs": [],
   "source": [
    "data_path = 'data/SKU-110k-6/data.yaml'"
   ]
  },
  {
   "cell_type": "code",
   "execution_count": 5,
   "id": "204fb965",
   "metadata": {},
   "outputs": [],
   "source": [
    "model = YOLO(\"yolo11m.pt\")"
   ]
  },
  {
   "cell_type": "code",
   "execution_count": 6,
   "id": "b7d7183a",
   "metadata": {},
   "outputs": [
    {
     "name": "stdout",
     "output_type": "stream",
     "text": [
      "New https://pypi.org/project/ultralytics/8.3.161 available  Update with 'pip install -U ultralytics'\n",
      "Ultralytics 8.3.40  Python-3.11.11 torch-2.7.1+cu118 CUDA:0 (NVIDIA GeForce RTX 3060, 12288MiB)\n",
      "\u001b[34m\u001b[1mengine\\trainer: \u001b[0mtask=detect, mode=train, model=yolo11m.pt, data=E:\\Github\\Shelves_monitoring\\data\\SKU-110k-6\\data.yaml, epochs=32, time=None, patience=100, batch=32, imgsz=320, save=True, save_period=-1, cache=False, device=None, workers=8, project=products, name=train8, exist_ok=False, pretrained=True, optimizer=auto, verbose=True, seed=0, deterministic=True, single_cls=False, rect=False, cos_lr=False, close_mosaic=10, resume=False, amp=True, fraction=1.0, profile=False, freeze=None, multi_scale=False, overlap_mask=True, mask_ratio=4, dropout=0.0, val=True, split=val, save_json=False, save_hybrid=False, conf=None, iou=0.7, max_det=300, half=False, dnn=False, plots=True, source=None, vid_stride=1, stream_buffer=False, visualize=False, augment=False, agnostic_nms=False, classes=None, retina_masks=False, embed=None, show=False, save_frames=False, save_txt=False, save_conf=False, save_crop=False, show_labels=True, show_conf=True, show_boxes=True, line_width=None, format=torchscript, keras=False, optimize=False, int8=False, dynamic=False, simplify=True, opset=None, workspace=None, nms=False, lr0=0.01, lrf=0.01, momentum=0.937, weight_decay=0.0005, warmup_epochs=3.0, warmup_momentum=0.8, warmup_bias_lr=0.1, box=7.5, cls=0.5, dfl=1.5, pose=12.0, kobj=1.0, nbs=64, hsv_h=0.015, hsv_s=0.7, hsv_v=0.4, degrees=0.0, translate=0.1, scale=0.5, shear=0.0, perspective=0.0, flipud=0.0, fliplr=0.5, bgr=0.0, mosaic=1.0, mixup=0.0, copy_paste=0.0, copy_paste_mode=flip, auto_augment=randaugment, erasing=0.4, crop_fraction=1.0, cfg=None, tracker=botsort.yaml, save_dir=products\\train8\n",
      "Overriding model.yaml nc=80 with nc=1\n",
      "\n",
      "                   from  n    params  module                                       arguments                     \n",
      "  0                  -1  1      1856  ultralytics.nn.modules.conv.Conv             [3, 64, 3, 2]                 \n",
      "  1                  -1  1     73984  ultralytics.nn.modules.conv.Conv             [64, 128, 3, 2]               \n",
      "  2                  -1  1    111872  ultralytics.nn.modules.block.C3k2            [128, 256, 1, True, 0.25]     \n",
      "  3                  -1  1    590336  ultralytics.nn.modules.conv.Conv             [256, 256, 3, 2]              \n",
      "  4                  -1  1    444928  ultralytics.nn.modules.block.C3k2            [256, 512, 1, True, 0.25]     \n",
      "  5                  -1  1   2360320  ultralytics.nn.modules.conv.Conv             [512, 512, 3, 2]              \n",
      "  6                  -1  1   1380352  ultralytics.nn.modules.block.C3k2            [512, 512, 1, True]           \n",
      "  7                  -1  1   2360320  ultralytics.nn.modules.conv.Conv             [512, 512, 3, 2]              \n",
      "  8                  -1  1   1380352  ultralytics.nn.modules.block.C3k2            [512, 512, 1, True]           \n",
      "  9                  -1  1    656896  ultralytics.nn.modules.block.SPPF            [512, 512, 5]                 \n",
      " 10                  -1  1    990976  ultralytics.nn.modules.block.C2PSA           [512, 512, 1]                 \n",
      " 11                  -1  1         0  torch.nn.modules.upsampling.Upsample         [None, 2, 'nearest']          \n",
      " 12             [-1, 6]  1         0  ultralytics.nn.modules.conv.Concat           [1]                           \n",
      " 13                  -1  1   1642496  ultralytics.nn.modules.block.C3k2            [1024, 512, 1, True]          \n",
      " 14                  -1  1         0  torch.nn.modules.upsampling.Upsample         [None, 2, 'nearest']          \n",
      " 15             [-1, 4]  1         0  ultralytics.nn.modules.conv.Concat           [1]                           \n",
      " 16                  -1  1    542720  ultralytics.nn.modules.block.C3k2            [1024, 256, 1, True]          \n",
      " 17                  -1  1    590336  ultralytics.nn.modules.conv.Conv             [256, 256, 3, 2]              \n",
      " 18            [-1, 13]  1         0  ultralytics.nn.modules.conv.Concat           [1]                           \n",
      " 19                  -1  1   1511424  ultralytics.nn.modules.block.C3k2            [768, 512, 1, True]           \n",
      " 20                  -1  1   2360320  ultralytics.nn.modules.conv.Conv             [512, 512, 3, 2]              \n",
      " 21            [-1, 10]  1         0  ultralytics.nn.modules.conv.Concat           [1]                           \n",
      " 22                  -1  1   1642496  ultralytics.nn.modules.block.C3k2            [1024, 512, 1, True]          \n",
      " 23        [16, 19, 22]  1   1411795  ultralytics.nn.modules.head.Detect           [1, [256, 512, 512]]          \n",
      "YOLO11m summary: 409 layers, 20,053,779 parameters, 20,053,763 gradients, 68.2 GFLOPs\n",
      "\n",
      "Transferred 643/649 items from pretrained weights\n",
      "Freezing layer 'model.23.dfl.conv.weight'\n",
      "\u001b[34m\u001b[1mAMP: \u001b[0mrunning Automatic Mixed Precision (AMP) checks...\n",
      "\u001b[34m\u001b[1mAMP: \u001b[0mchecks passed \n"
     ]
    },
    {
     "name": "stderr",
     "output_type": "stream",
     "text": [
      "\u001b[34m\u001b[1mtrain: \u001b[0mScanning E:\\Github\\Shelves_monitoring\\data\\SKU-110k-6\\train\\labels.cache... 6998 images, 0 backgrounds, 0 corrupt: 100%|██████████| 6998/6998 [00:00<?, ?it/s]"
     ]
    },
    {
     "name": "stdout",
     "output_type": "stream",
     "text": [
      "\u001b[34m\u001b[1mtrain: \u001b[0mWARNING  E:\\Github\\Shelves_monitoring\\data\\SKU-110k-6\\train\\images\\train_1797_jpg.rf.e3170884057c07fd6bd025748f8e988c.jpg: 3 duplicate labels removed\n"
     ]
    },
    {
     "name": "stderr",
     "output_type": "stream",
     "text": [
      "\n",
      "\u001b[34m\u001b[1mval: \u001b[0mScanning E:\\Github\\Shelves_monitoring\\data\\SKU-110k-6\\valid\\labels.cache... 2000 images, 0 backgrounds, 0 corrupt: 100%|██████████| 2000/2000 [00:00<?, ?it/s]\n"
     ]
    },
    {
     "name": "stdout",
     "output_type": "stream",
     "text": [
      "Plotting labels to products\\train8\\labels.jpg... \n",
      "\u001b[34m\u001b[1moptimizer:\u001b[0m 'optimizer=auto' found, ignoring 'lr0=0.01' and 'momentum=0.937' and determining best 'optimizer', 'lr0' and 'momentum' automatically... \n",
      "\u001b[34m\u001b[1moptimizer:\u001b[0m AdamW(lr=0.002, momentum=0.9) with parameter groups 106 weight(decay=0.0), 113 weight(decay=0.0005), 112 bias(decay=0.0)\n",
      "Image sizes 320 train, 320 val\n",
      "Using 8 dataloader workers\n",
      "Logging results to \u001b[1mproducts\\train8\u001b[0m\n",
      "Starting training for 32 epochs...\n",
      "\n",
      "      Epoch    GPU_mem   box_loss   cls_loss   dfl_loss  Instances       Size\n"
     ]
    },
    {
     "name": "stderr",
     "output_type": "stream",
     "text": [
      "       1/32      10.6G      2.028     0.9854      1.047       6269        320: 100%|██████████| 219/219 [01:34<00:00,  2.31it/s]\n",
      "                 Class     Images  Instances      Box(P          R      mAP50  mAP50-95): 100%|██████████| 32/32 [00:23<00:00,  1.35it/s]\n"
     ]
    },
    {
     "name": "stdout",
     "output_type": "stream",
     "text": [
      "                   all       2000     290655      0.727      0.631      0.695      0.351\n",
      "\n",
      "      Epoch    GPU_mem   box_loss   cls_loss   dfl_loss  Instances       Size\n"
     ]
    },
    {
     "name": "stderr",
     "output_type": "stream",
     "text": [
      "       2/32      9.94G      1.738     0.7542       0.94       4168        320: 100%|██████████| 219/219 [01:27<00:00,  2.49it/s]\n",
      "                 Class     Images  Instances      Box(P          R      mAP50  mAP50-95): 100%|██████████| 32/32 [00:23<00:00,  1.37it/s]\n"
     ]
    },
    {
     "name": "stdout",
     "output_type": "stream",
     "text": [
      "                   all       2000     290655      0.805      0.707      0.778      0.431\n",
      "\n",
      "      Epoch    GPU_mem   box_loss   cls_loss   dfl_loss  Instances       Size\n"
     ]
    },
    {
     "name": "stderr",
     "output_type": "stream",
     "text": [
      "       3/32      10.5G       1.68     0.7371     0.9229       6525        320: 100%|██████████| 219/219 [01:24<00:00,  2.58it/s]\n",
      "                 Class     Images  Instances      Box(P          R      mAP50  mAP50-95): 100%|██████████| 32/32 [00:23<00:00,  1.36it/s]\n"
     ]
    },
    {
     "name": "stdout",
     "output_type": "stream",
     "text": [
      "                   all       2000     290655      0.746      0.642      0.718       0.38\n",
      "\n",
      "      Epoch    GPU_mem   box_loss   cls_loss   dfl_loss  Instances       Size\n"
     ]
    },
    {
     "name": "stderr",
     "output_type": "stream",
     "text": [
      "       4/32       9.6G       1.66     0.7296     0.9178       5798        320: 100%|██████████| 219/219 [01:24<00:00,  2.59it/s]\n",
      "                 Class     Images  Instances      Box(P          R      mAP50  mAP50-95): 100%|██████████| 32/32 [00:23<00:00,  1.37it/s]\n"
     ]
    },
    {
     "name": "stdout",
     "output_type": "stream",
     "text": [
      "                   all       2000     290655      0.797      0.714      0.788      0.446\n",
      "\n",
      "      Epoch    GPU_mem   box_loss   cls_loss   dfl_loss  Instances       Size\n"
     ]
    },
    {
     "name": "stderr",
     "output_type": "stream",
     "text": [
      "       5/32        11G      1.612     0.7081     0.9065       4775        320: 100%|██████████| 219/219 [01:25<00:00,  2.56it/s]\n",
      "                 Class     Images  Instances      Box(P          R      mAP50  mAP50-95): 100%|██████████| 32/32 [00:23<00:00,  1.38it/s]\n"
     ]
    },
    {
     "name": "stdout",
     "output_type": "stream",
     "text": [
      "                   all       2000     290655      0.807      0.719      0.796       0.45\n",
      "\n",
      "      Epoch    GPU_mem   box_loss   cls_loss   dfl_loss  Instances       Size\n"
     ]
    },
    {
     "name": "stderr",
     "output_type": "stream",
     "text": [
      "       6/32      9.38G      1.587     0.6958     0.9018       3956        320: 100%|██████████| 219/219 [01:25<00:00,  2.57it/s]\n",
      "                 Class     Images  Instances      Box(P          R      mAP50  mAP50-95): 100%|██████████| 32/32 [00:24<00:00,  1.33it/s]\n"
     ]
    },
    {
     "name": "stdout",
     "output_type": "stream",
     "text": [
      "                   all       2000     290655      0.843      0.754       0.83      0.482\n",
      "\n",
      "      Epoch    GPU_mem   box_loss   cls_loss   dfl_loss  Instances       Size\n"
     ]
    },
    {
     "name": "stderr",
     "output_type": "stream",
     "text": [
      "       7/32      10.5G      1.551     0.6788     0.8945       4866        320: 100%|██████████| 219/219 [01:24<00:00,  2.58it/s]\n",
      "                 Class     Images  Instances      Box(P          R      mAP50  mAP50-95): 100%|██████████| 32/32 [00:23<00:00,  1.38it/s]\n"
     ]
    },
    {
     "name": "stdout",
     "output_type": "stream",
     "text": [
      "                   all       2000     290655      0.843      0.763      0.834       0.49\n",
      "\n",
      "      Epoch    GPU_mem   box_loss   cls_loss   dfl_loss  Instances       Size\n"
     ]
    },
    {
     "name": "stderr",
     "output_type": "stream",
     "text": [
      "       8/32      8.91G      1.537      0.671     0.8917       6184        320: 100%|██████████| 219/219 [01:25<00:00,  2.58it/s]\n",
      "                 Class     Images  Instances      Box(P          R      mAP50  mAP50-95): 100%|██████████| 32/32 [00:23<00:00,  1.38it/s]\n"
     ]
    },
    {
     "name": "stdout",
     "output_type": "stream",
     "text": [
      "                   all       2000     290655      0.831      0.734      0.819      0.472\n",
      "\n",
      "      Epoch    GPU_mem   box_loss   cls_loss   dfl_loss  Instances       Size\n"
     ]
    },
    {
     "name": "stderr",
     "output_type": "stream",
     "text": [
      "       9/32      7.41G      1.518     0.6632     0.8884       4888        320: 100%|██████████| 219/219 [01:24<00:00,  2.58it/s]\n",
      "                 Class     Images  Instances      Box(P          R      mAP50  mAP50-95): 100%|██████████| 32/32 [00:23<00:00,  1.35it/s]\n"
     ]
    },
    {
     "name": "stdout",
     "output_type": "stream",
     "text": [
      "                   all       2000     290655      0.858      0.762       0.84      0.496\n",
      "\n",
      "      Epoch    GPU_mem   box_loss   cls_loss   dfl_loss  Instances       Size\n"
     ]
    },
    {
     "name": "stderr",
     "output_type": "stream",
     "text": [
      "      10/32       9.9G      1.512     0.6556     0.8851       5395        320: 100%|██████████| 219/219 [01:24<00:00,  2.58it/s]\n",
      "                 Class     Images  Instances      Box(P          R      mAP50  mAP50-95): 100%|██████████| 32/32 [00:23<00:00,  1.38it/s]\n"
     ]
    },
    {
     "name": "stdout",
     "output_type": "stream",
     "text": [
      "                   all       2000     290655      0.855      0.771      0.848      0.501\n",
      "\n",
      "      Epoch    GPU_mem   box_loss   cls_loss   dfl_loss  Instances       Size\n"
     ]
    },
    {
     "name": "stderr",
     "output_type": "stream",
     "text": [
      "      11/32      8.28G      1.504     0.6526     0.8852       5485        320: 100%|██████████| 219/219 [01:25<00:00,  2.57it/s]\n",
      "                 Class     Images  Instances      Box(P          R      mAP50  mAP50-95): 100%|██████████| 32/32 [00:23<00:00,  1.38it/s]\n"
     ]
    },
    {
     "name": "stdout",
     "output_type": "stream",
     "text": [
      "                   all       2000     290655      0.857      0.768       0.84      0.496\n",
      "\n",
      "      Epoch    GPU_mem   box_loss   cls_loss   dfl_loss  Instances       Size\n"
     ]
    },
    {
     "name": "stderr",
     "output_type": "stream",
     "text": [
      "      12/32      10.5G       1.49     0.6455      0.882       5590        320: 100%|██████████| 219/219 [01:24<00:00,  2.58it/s]\n",
      "                 Class     Images  Instances      Box(P          R      mAP50  mAP50-95): 100%|██████████| 32/32 [00:23<00:00,  1.37it/s]\n"
     ]
    },
    {
     "name": "stdout",
     "output_type": "stream",
     "text": [
      "                   all       2000     290655      0.854      0.768      0.848      0.496\n",
      "\n",
      "      Epoch    GPU_mem   box_loss   cls_loss   dfl_loss  Instances       Size\n"
     ]
    },
    {
     "name": "stderr",
     "output_type": "stream",
     "text": [
      "      13/32      11.5G      1.477     0.6379     0.8799       5164        320: 100%|██████████| 219/219 [01:26<00:00,  2.52it/s]\n",
      "                 Class     Images  Instances      Box(P          R      mAP50  mAP50-95): 100%|██████████| 32/32 [00:23<00:00,  1.37it/s]\n"
     ]
    },
    {
     "name": "stdout",
     "output_type": "stream",
     "text": [
      "                   all       2000     290655      0.856      0.765      0.844        0.5\n",
      "\n",
      "      Epoch    GPU_mem   box_loss   cls_loss   dfl_loss  Instances       Size\n"
     ]
    },
    {
     "name": "stderr",
     "output_type": "stream",
     "text": [
      "      14/32      9.25G      1.468     0.6336     0.8793       4251        320: 100%|██████████| 219/219 [01:25<00:00,  2.57it/s]\n",
      "                 Class     Images  Instances      Box(P          R      mAP50  mAP50-95): 100%|██████████| 32/32 [00:23<00:00,  1.39it/s]\n"
     ]
    },
    {
     "name": "stdout",
     "output_type": "stream",
     "text": [
      "                   all       2000     290655      0.862      0.778      0.854       0.51\n",
      "\n",
      "      Epoch    GPU_mem   box_loss   cls_loss   dfl_loss  Instances       Size\n"
     ]
    },
    {
     "name": "stderr",
     "output_type": "stream",
     "text": [
      "      15/32      9.26G       1.46     0.6285     0.8764       3495        320: 100%|██████████| 219/219 [01:25<00:00,  2.58it/s]\n",
      "                 Class     Images  Instances      Box(P          R      mAP50  mAP50-95): 100%|██████████| 32/32 [00:23<00:00,  1.37it/s]\n"
     ]
    },
    {
     "name": "stdout",
     "output_type": "stream",
     "text": [
      "                   all       2000     290655      0.866      0.786      0.859      0.512\n",
      "\n",
      "      Epoch    GPU_mem   box_loss   cls_loss   dfl_loss  Instances       Size\n"
     ]
    },
    {
     "name": "stderr",
     "output_type": "stream",
     "text": [
      "      16/32      8.74G      1.456     0.6247     0.8761       5242        320: 100%|██████████| 219/219 [01:25<00:00,  2.57it/s]\n",
      "                 Class     Images  Instances      Box(P          R      mAP50  mAP50-95): 100%|██████████| 32/32 [00:23<00:00,  1.39it/s]\n"
     ]
    },
    {
     "name": "stdout",
     "output_type": "stream",
     "text": [
      "                   all       2000     290655      0.871      0.791      0.864      0.522\n",
      "\n",
      "      Epoch    GPU_mem   box_loss   cls_loss   dfl_loss  Instances       Size\n"
     ]
    },
    {
     "name": "stderr",
     "output_type": "stream",
     "text": [
      "      17/32      8.03G      1.448      0.621     0.8734       5118        320: 100%|██████████| 219/219 [01:25<00:00,  2.57it/s]\n",
      "                 Class     Images  Instances      Box(P          R      mAP50  mAP50-95): 100%|██████████| 32/32 [00:23<00:00,  1.39it/s]\n"
     ]
    },
    {
     "name": "stdout",
     "output_type": "stream",
     "text": [
      "                   all       2000     290655      0.871      0.791      0.863      0.522\n",
      "\n",
      "      Epoch    GPU_mem   box_loss   cls_loss   dfl_loss  Instances       Size\n"
     ]
    },
    {
     "name": "stderr",
     "output_type": "stream",
     "text": [
      "      18/32        13G      1.437     0.6149     0.8724       4906        320: 100%|██████████| 219/219 [02:49<00:00,  1.29it/s]\n",
      "                 Class     Images  Instances      Box(P          R      mAP50  mAP50-95): 100%|██████████| 32/32 [01:07<00:00,  2.12s/it]\n"
     ]
    },
    {
     "name": "stdout",
     "output_type": "stream",
     "text": [
      "                   all       2000     290655      0.869      0.795      0.866      0.525\n",
      "\n",
      "      Epoch    GPU_mem   box_loss   cls_loss   dfl_loss  Instances       Size\n"
     ]
    },
    {
     "name": "stderr",
     "output_type": "stream",
     "text": [
      "      19/32      11.8G      1.428     0.6116      0.872       4222        320: 100%|██████████| 219/219 [01:25<00:00,  2.57it/s]\n",
      "                 Class     Images  Instances      Box(P          R      mAP50  mAP50-95): 100%|██████████| 32/32 [00:25<00:00,  1.24it/s]\n"
     ]
    },
    {
     "name": "stdout",
     "output_type": "stream",
     "text": [
      "                   all       2000     290655      0.872      0.794      0.866      0.525\n",
      "\n",
      "      Epoch    GPU_mem   box_loss   cls_loss   dfl_loss  Instances       Size\n"
     ]
    },
    {
     "name": "stderr",
     "output_type": "stream",
     "text": [
      "      20/32      7.67G      1.424     0.6083       0.87       4162        320: 100%|██████████| 219/219 [01:24<00:00,  2.58it/s]\n",
      "                 Class     Images  Instances      Box(P          R      mAP50  mAP50-95): 100%|██████████| 32/32 [00:23<00:00,  1.38it/s]\n"
     ]
    },
    {
     "name": "stdout",
     "output_type": "stream",
     "text": [
      "                   all       2000     290655      0.873      0.797      0.867      0.527\n",
      "\n",
      "      Epoch    GPU_mem   box_loss   cls_loss   dfl_loss  Instances       Size\n"
     ]
    },
    {
     "name": "stderr",
     "output_type": "stream",
     "text": [
      "      21/32      10.9G      1.417     0.6053     0.8698       5521        320: 100%|██████████| 219/219 [01:24<00:00,  2.58it/s]\n",
      "                 Class     Images  Instances      Box(P          R      mAP50  mAP50-95): 100%|██████████| 32/32 [00:22<00:00,  1.39it/s]\n"
     ]
    },
    {
     "name": "stdout",
     "output_type": "stream",
     "text": [
      "                   all       2000     290655      0.873      0.798      0.868      0.529\n",
      "\n",
      "      Epoch    GPU_mem   box_loss   cls_loss   dfl_loss  Instances       Size\n"
     ]
    },
    {
     "name": "stderr",
     "output_type": "stream",
     "text": [
      "      22/32      8.97G      1.419     0.6043      0.868       4851        320: 100%|██████████| 219/219 [01:25<00:00,  2.55it/s]\n",
      "                 Class     Images  Instances      Box(P          R      mAP50  mAP50-95): 100%|██████████| 32/32 [00:23<00:00,  1.38it/s]\n"
     ]
    },
    {
     "name": "stdout",
     "output_type": "stream",
     "text": [
      "                   all       2000     290655      0.877      0.798      0.868       0.53\n",
      "Closing dataloader mosaic\n",
      "\n",
      "      Epoch    GPU_mem   box_loss   cls_loss   dfl_loss  Instances       Size\n"
     ]
    },
    {
     "name": "stderr",
     "output_type": "stream",
     "text": [
      "      23/32      6.98G      1.387     0.6014     0.8772       3090        320: 100%|██████████| 219/219 [01:19<00:00,  2.76it/s]\n",
      "                 Class     Images  Instances      Box(P          R      mAP50  mAP50-95): 100%|██████████| 32/32 [00:22<00:00,  1.39it/s]\n"
     ]
    },
    {
     "name": "stdout",
     "output_type": "stream",
     "text": [
      "                   all       2000     290655      0.872      0.799      0.869       0.53\n",
      "\n",
      "      Epoch    GPU_mem   box_loss   cls_loss   dfl_loss  Instances       Size\n"
     ]
    },
    {
     "name": "stderr",
     "output_type": "stream",
     "text": [
      "      24/32      8.29G      1.369     0.5896     0.8735       2689        320: 100%|██████████| 219/219 [01:19<00:00,  2.74it/s]\n",
      "                 Class     Images  Instances      Box(P          R      mAP50  mAP50-95): 100%|██████████| 32/32 [00:24<00:00,  1.29it/s]\n"
     ]
    },
    {
     "name": "stdout",
     "output_type": "stream",
     "text": [
      "                   all       2000     290655      0.873      0.799      0.869       0.53\n",
      "\n",
      "      Epoch    GPU_mem   box_loss   cls_loss   dfl_loss  Instances       Size\n"
     ]
    },
    {
     "name": "stderr",
     "output_type": "stream",
     "text": [
      "      25/32      8.52G      1.372     0.5893     0.8733       3306        320: 100%|██████████| 219/219 [01:23<00:00,  2.62it/s]\n",
      "                 Class     Images  Instances      Box(P          R      mAP50  mAP50-95): 100%|██████████| 32/32 [00:27<00:00,  1.16it/s]\n"
     ]
    },
    {
     "name": "stdout",
     "output_type": "stream",
     "text": [
      "                   all       2000     290655      0.877      0.799      0.868      0.532\n",
      "\n",
      "      Epoch    GPU_mem   box_loss   cls_loss   dfl_loss  Instances       Size\n"
     ]
    },
    {
     "name": "stderr",
     "output_type": "stream",
     "text": [
      "      26/32      7.07G      1.357     0.5803     0.8718       2946        320: 100%|██████████| 219/219 [01:21<00:00,  2.70it/s]\n",
      "                 Class     Images  Instances      Box(P          R      mAP50  mAP50-95): 100%|██████████| 32/32 [00:22<00:00,  1.41it/s]\n"
     ]
    },
    {
     "name": "stdout",
     "output_type": "stream",
     "text": [
      "                   all       2000     290655      0.878      0.804      0.874      0.537\n",
      "\n",
      "      Epoch    GPU_mem   box_loss   cls_loss   dfl_loss  Instances       Size\n"
     ]
    },
    {
     "name": "stderr",
     "output_type": "stream",
     "text": [
      "      27/32      7.92G      1.355     0.5771     0.8705       3495        320: 100%|██████████| 219/219 [01:15<00:00,  2.90it/s]\n",
      "                 Class     Images  Instances      Box(P          R      mAP50  mAP50-95): 100%|██████████| 32/32 [00:23<00:00,  1.35it/s]\n"
     ]
    },
    {
     "name": "stdout",
     "output_type": "stream",
     "text": [
      "                   all       2000     290655      0.878      0.809      0.877      0.541\n",
      "\n",
      "      Epoch    GPU_mem   box_loss   cls_loss   dfl_loss  Instances       Size\n"
     ]
    },
    {
     "name": "stderr",
     "output_type": "stream",
     "text": [
      "      28/32      6.68G      1.346     0.5719       0.87       2946        320: 100%|██████████| 219/219 [01:15<00:00,  2.90it/s]\n",
      "                 Class     Images  Instances      Box(P          R      mAP50  mAP50-95): 100%|██████████| 32/32 [00:23<00:00,  1.37it/s]\n"
     ]
    },
    {
     "name": "stdout",
     "output_type": "stream",
     "text": [
      "                   all       2000     290655       0.88       0.81      0.877      0.541\n",
      "\n",
      "      Epoch    GPU_mem   box_loss   cls_loss   dfl_loss  Instances       Size\n"
     ]
    },
    {
     "name": "stderr",
     "output_type": "stream",
     "text": [
      "      29/32       7.5G      1.342     0.5677     0.8685       2987        320: 100%|██████████| 219/219 [01:14<00:00,  2.93it/s]\n",
      "                 Class     Images  Instances      Box(P          R      mAP50  mAP50-95): 100%|██████████| 32/32 [00:23<00:00,  1.34it/s]\n"
     ]
    },
    {
     "name": "stdout",
     "output_type": "stream",
     "text": [
      "                   all       2000     290655      0.881      0.809      0.877      0.543\n",
      "\n",
      "      Epoch    GPU_mem   box_loss   cls_loss   dfl_loss  Instances       Size\n"
     ]
    },
    {
     "name": "stderr",
     "output_type": "stream",
     "text": [
      "      30/32       8.1G      1.337     0.5645     0.8667       3156        320: 100%|██████████| 219/219 [01:19<00:00,  2.75it/s]\n",
      "                 Class     Images  Instances      Box(P          R      mAP50  mAP50-95): 100%|██████████| 32/32 [00:23<00:00,  1.37it/s]\n"
     ]
    },
    {
     "name": "stdout",
     "output_type": "stream",
     "text": [
      "                   all       2000     290655      0.882      0.812       0.88      0.545\n",
      "\n",
      "      Epoch    GPU_mem   box_loss   cls_loss   dfl_loss  Instances       Size\n"
     ]
    },
    {
     "name": "stderr",
     "output_type": "stream",
     "text": [
      "      31/32      8.14G      1.327     0.5584     0.8657       2908        320: 100%|██████████| 219/219 [01:19<00:00,  2.77it/s]\n",
      "                 Class     Images  Instances      Box(P          R      mAP50  mAP50-95): 100%|██████████| 32/32 [00:25<00:00,  1.27it/s]\n"
     ]
    },
    {
     "name": "stdout",
     "output_type": "stream",
     "text": [
      "                   all       2000     290655      0.883      0.812       0.88      0.546\n",
      "\n",
      "      Epoch    GPU_mem   box_loss   cls_loss   dfl_loss  Instances       Size\n"
     ]
    },
    {
     "name": "stderr",
     "output_type": "stream",
     "text": [
      "      32/32      8.52G      1.323     0.5556     0.8643       3202        320: 100%|██████████| 219/219 [01:22<00:00,  2.66it/s]\n",
      "                 Class     Images  Instances      Box(P          R      mAP50  mAP50-95): 100%|██████████| 32/32 [00:25<00:00,  1.26it/s]\n"
     ]
    },
    {
     "name": "stdout",
     "output_type": "stream",
     "text": [
      "                   all       2000     290655      0.882      0.815      0.882      0.548\n",
      "\n",
      "32 epochs completed in 1.020 hours.\n",
      "Optimizer stripped from products\\train8\\weights\\last.pt, 40.5MB\n",
      "Optimizer stripped from products\\train8\\weights\\best.pt, 40.5MB\n",
      "\n",
      "Validating products\\train8\\weights\\best.pt...\n",
      "Ultralytics 8.3.40  Python-3.11.11 torch-2.7.1+cu118 CUDA:0 (NVIDIA GeForce RTX 3060, 12288MiB)\n",
      "YOLO11m summary (fused): 303 layers, 20,030,803 parameters, 0 gradients, 67.6 GFLOPs\n"
     ]
    },
    {
     "name": "stderr",
     "output_type": "stream",
     "text": [
      "                 Class     Images  Instances      Box(P          R      mAP50  mAP50-95): 100%|██████████| 32/32 [01:30<00:00,  2.83s/it]\n"
     ]
    },
    {
     "name": "stdout",
     "output_type": "stream",
     "text": [
      "                   all       2000     290655      0.882      0.816      0.882      0.548\n",
      "Speed: 0.1ms preprocess, 4.0ms inference, 0.0ms loss, 2.7ms postprocess per image\n",
      "Results saved to \u001b[1mproducts\\train8\u001b[0m\n"
     ]
    },
    {
     "data": {
      "text/plain": [
       "ultralytics.utils.metrics.DetMetrics object with attributes:\n",
       "\n",
       "ap_class_index: array([0])\n",
       "box: ultralytics.utils.metrics.Metric object\n",
       "confusion_matrix: <ultralytics.utils.metrics.ConfusionMatrix object at 0x000001F47DEFDA90>\n",
       "curves: ['Precision-Recall(B)', 'F1-Confidence(B)', 'Precision-Confidence(B)', 'Recall-Confidence(B)']\n",
       "curves_results: [[array([          0,    0.001001,    0.002002,    0.003003,    0.004004,    0.005005,    0.006006,    0.007007,    0.008008,    0.009009,     0.01001,    0.011011,    0.012012,    0.013013,    0.014014,    0.015015,    0.016016,    0.017017,    0.018018,    0.019019,     0.02002,    0.021021,    0.022022,    0.023023,\n",
       "          0.024024,    0.025025,    0.026026,    0.027027,    0.028028,    0.029029,     0.03003,    0.031031,    0.032032,    0.033033,    0.034034,    0.035035,    0.036036,    0.037037,    0.038038,    0.039039,     0.04004,    0.041041,    0.042042,    0.043043,    0.044044,    0.045045,    0.046046,    0.047047,\n",
       "          0.048048,    0.049049,     0.05005,    0.051051,    0.052052,    0.053053,    0.054054,    0.055055,    0.056056,    0.057057,    0.058058,    0.059059,     0.06006,    0.061061,    0.062062,    0.063063,    0.064064,    0.065065,    0.066066,    0.067067,    0.068068,    0.069069,     0.07007,    0.071071,\n",
       "          0.072072,    0.073073,    0.074074,    0.075075,    0.076076,    0.077077,    0.078078,    0.079079,     0.08008,    0.081081,    0.082082,    0.083083,    0.084084,    0.085085,    0.086086,    0.087087,    0.088088,    0.089089,     0.09009,    0.091091,    0.092092,    0.093093,    0.094094,    0.095095,\n",
       "          0.096096,    0.097097,    0.098098,    0.099099,      0.1001,      0.1011,      0.1021,      0.1031,      0.1041,     0.10511,     0.10611,     0.10711,     0.10811,     0.10911,     0.11011,     0.11111,     0.11211,     0.11311,     0.11411,     0.11512,     0.11612,     0.11712,     0.11812,     0.11912,\n",
       "           0.12012,     0.12112,     0.12212,     0.12312,     0.12412,     0.12513,     0.12613,     0.12713,     0.12813,     0.12913,     0.13013,     0.13113,     0.13213,     0.13313,     0.13413,     0.13514,     0.13614,     0.13714,     0.13814,     0.13914,     0.14014,     0.14114,     0.14214,     0.14314,\n",
       "           0.14414,     0.14515,     0.14615,     0.14715,     0.14815,     0.14915,     0.15015,     0.15115,     0.15215,     0.15315,     0.15415,     0.15516,     0.15616,     0.15716,     0.15816,     0.15916,     0.16016,     0.16116,     0.16216,     0.16316,     0.16416,     0.16517,     0.16617,     0.16717,\n",
       "           0.16817,     0.16917,     0.17017,     0.17117,     0.17217,     0.17317,     0.17417,     0.17518,     0.17618,     0.17718,     0.17818,     0.17918,     0.18018,     0.18118,     0.18218,     0.18318,     0.18418,     0.18519,     0.18619,     0.18719,     0.18819,     0.18919,     0.19019,     0.19119,\n",
       "           0.19219,     0.19319,     0.19419,      0.1952,      0.1962,      0.1972,      0.1982,      0.1992,      0.2002,      0.2012,      0.2022,      0.2032,      0.2042,     0.20521,     0.20621,     0.20721,     0.20821,     0.20921,     0.21021,     0.21121,     0.21221,     0.21321,     0.21421,     0.21522,\n",
       "           0.21622,     0.21722,     0.21822,     0.21922,     0.22022,     0.22122,     0.22222,     0.22322,     0.22422,     0.22523,     0.22623,     0.22723,     0.22823,     0.22923,     0.23023,     0.23123,     0.23223,     0.23323,     0.23423,     0.23524,     0.23624,     0.23724,     0.23824,     0.23924,\n",
       "           0.24024,     0.24124,     0.24224,     0.24324,     0.24424,     0.24525,     0.24625,     0.24725,     0.24825,     0.24925,     0.25025,     0.25125,     0.25225,     0.25325,     0.25425,     0.25526,     0.25626,     0.25726,     0.25826,     0.25926,     0.26026,     0.26126,     0.26226,     0.26326,\n",
       "           0.26426,     0.26527,     0.26627,     0.26727,     0.26827,     0.26927,     0.27027,     0.27127,     0.27227,     0.27327,     0.27427,     0.27528,     0.27628,     0.27728,     0.27828,     0.27928,     0.28028,     0.28128,     0.28228,     0.28328,     0.28428,     0.28529,     0.28629,     0.28729,\n",
       "           0.28829,     0.28929,     0.29029,     0.29129,     0.29229,     0.29329,     0.29429,      0.2953,      0.2963,      0.2973,      0.2983,      0.2993,      0.3003,      0.3013,      0.3023,      0.3033,      0.3043,     0.30531,     0.30631,     0.30731,     0.30831,     0.30931,     0.31031,     0.31131,\n",
       "           0.31231,     0.31331,     0.31431,     0.31532,     0.31632,     0.31732,     0.31832,     0.31932,     0.32032,     0.32132,     0.32232,     0.32332,     0.32432,     0.32533,     0.32633,     0.32733,     0.32833,     0.32933,     0.33033,     0.33133,     0.33233,     0.33333,     0.33433,     0.33534,\n",
       "           0.33634,     0.33734,     0.33834,     0.33934,     0.34034,     0.34134,     0.34234,     0.34334,     0.34434,     0.34535,     0.34635,     0.34735,     0.34835,     0.34935,     0.35035,     0.35135,     0.35235,     0.35335,     0.35435,     0.35536,     0.35636,     0.35736,     0.35836,     0.35936,\n",
       "           0.36036,     0.36136,     0.36236,     0.36336,     0.36436,     0.36537,     0.36637,     0.36737,     0.36837,     0.36937,     0.37037,     0.37137,     0.37237,     0.37337,     0.37437,     0.37538,     0.37638,     0.37738,     0.37838,     0.37938,     0.38038,     0.38138,     0.38238,     0.38338,\n",
       "           0.38438,     0.38539,     0.38639,     0.38739,     0.38839,     0.38939,     0.39039,     0.39139,     0.39239,     0.39339,     0.39439,      0.3954,      0.3964,      0.3974,      0.3984,      0.3994,      0.4004,      0.4014,      0.4024,      0.4034,      0.4044,     0.40541,     0.40641,     0.40741,\n",
       "           0.40841,     0.40941,     0.41041,     0.41141,     0.41241,     0.41341,     0.41441,     0.41542,     0.41642,     0.41742,     0.41842,     0.41942,     0.42042,     0.42142,     0.42242,     0.42342,     0.42442,     0.42543,     0.42643,     0.42743,     0.42843,     0.42943,     0.43043,     0.43143,\n",
       "           0.43243,     0.43343,     0.43443,     0.43544,     0.43644,     0.43744,     0.43844,     0.43944,     0.44044,     0.44144,     0.44244,     0.44344,     0.44444,     0.44545,     0.44645,     0.44745,     0.44845,     0.44945,     0.45045,     0.45145,     0.45245,     0.45345,     0.45445,     0.45546,\n",
       "           0.45646,     0.45746,     0.45846,     0.45946,     0.46046,     0.46146,     0.46246,     0.46346,     0.46446,     0.46547,     0.46647,     0.46747,     0.46847,     0.46947,     0.47047,     0.47147,     0.47247,     0.47347,     0.47447,     0.47548,     0.47648,     0.47748,     0.47848,     0.47948,\n",
       "           0.48048,     0.48148,     0.48248,     0.48348,     0.48448,     0.48549,     0.48649,     0.48749,     0.48849,     0.48949,     0.49049,     0.49149,     0.49249,     0.49349,     0.49449,      0.4955,      0.4965,      0.4975,      0.4985,      0.4995,      0.5005,      0.5015,      0.5025,      0.5035,\n",
       "            0.5045,     0.50551,     0.50651,     0.50751,     0.50851,     0.50951,     0.51051,     0.51151,     0.51251,     0.51351,     0.51451,     0.51552,     0.51652,     0.51752,     0.51852,     0.51952,     0.52052,     0.52152,     0.52252,     0.52352,     0.52452,     0.52553,     0.52653,     0.52753,\n",
       "           0.52853,     0.52953,     0.53053,     0.53153,     0.53253,     0.53353,     0.53453,     0.53554,     0.53654,     0.53754,     0.53854,     0.53954,     0.54054,     0.54154,     0.54254,     0.54354,     0.54454,     0.54555,     0.54655,     0.54755,     0.54855,     0.54955,     0.55055,     0.55155,\n",
       "           0.55255,     0.55355,     0.55455,     0.55556,     0.55656,     0.55756,     0.55856,     0.55956,     0.56056,     0.56156,     0.56256,     0.56356,     0.56456,     0.56557,     0.56657,     0.56757,     0.56857,     0.56957,     0.57057,     0.57157,     0.57257,     0.57357,     0.57457,     0.57558,\n",
       "           0.57658,     0.57758,     0.57858,     0.57958,     0.58058,     0.58158,     0.58258,     0.58358,     0.58458,     0.58559,     0.58659,     0.58759,     0.58859,     0.58959,     0.59059,     0.59159,     0.59259,     0.59359,     0.59459,      0.5956,      0.5966,      0.5976,      0.5986,      0.5996,\n",
       "            0.6006,      0.6016,      0.6026,      0.6036,      0.6046,     0.60561,     0.60661,     0.60761,     0.60861,     0.60961,     0.61061,     0.61161,     0.61261,     0.61361,     0.61461,     0.61562,     0.61662,     0.61762,     0.61862,     0.61962,     0.62062,     0.62162,     0.62262,     0.62362,\n",
       "           0.62462,     0.62563,     0.62663,     0.62763,     0.62863,     0.62963,     0.63063,     0.63163,     0.63263,     0.63363,     0.63463,     0.63564,     0.63664,     0.63764,     0.63864,     0.63964,     0.64064,     0.64164,     0.64264,     0.64364,     0.64464,     0.64565,     0.64665,     0.64765,\n",
       "           0.64865,     0.64965,     0.65065,     0.65165,     0.65265,     0.65365,     0.65465,     0.65566,     0.65666,     0.65766,     0.65866,     0.65966,     0.66066,     0.66166,     0.66266,     0.66366,     0.66466,     0.66567,     0.66667,     0.66767,     0.66867,     0.66967,     0.67067,     0.67167,\n",
       "           0.67267,     0.67367,     0.67467,     0.67568,     0.67668,     0.67768,     0.67868,     0.67968,     0.68068,     0.68168,     0.68268,     0.68368,     0.68468,     0.68569,     0.68669,     0.68769,     0.68869,     0.68969,     0.69069,     0.69169,     0.69269,     0.69369,     0.69469,      0.6957,\n",
       "            0.6967,      0.6977,      0.6987,      0.6997,      0.7007,      0.7017,      0.7027,      0.7037,      0.7047,     0.70571,     0.70671,     0.70771,     0.70871,     0.70971,     0.71071,     0.71171,     0.71271,     0.71371,     0.71471,     0.71572,     0.71672,     0.71772,     0.71872,     0.71972,\n",
       "           0.72072,     0.72172,     0.72272,     0.72372,     0.72472,     0.72573,     0.72673,     0.72773,     0.72873,     0.72973,     0.73073,     0.73173,     0.73273,     0.73373,     0.73473,     0.73574,     0.73674,     0.73774,     0.73874,     0.73974,     0.74074,     0.74174,     0.74274,     0.74374,\n",
       "           0.74474,     0.74575,     0.74675,     0.74775,     0.74875,     0.74975,     0.75075,     0.75175,     0.75275,     0.75375,     0.75475,     0.75576,     0.75676,     0.75776,     0.75876,     0.75976,     0.76076,     0.76176,     0.76276,     0.76376,     0.76476,     0.76577,     0.76677,     0.76777,\n",
       "           0.76877,     0.76977,     0.77077,     0.77177,     0.77277,     0.77377,     0.77477,     0.77578,     0.77678,     0.77778,     0.77878,     0.77978,     0.78078,     0.78178,     0.78278,     0.78378,     0.78478,     0.78579,     0.78679,     0.78779,     0.78879,     0.78979,     0.79079,     0.79179,\n",
       "           0.79279,     0.79379,     0.79479,      0.7958,      0.7968,      0.7978,      0.7988,      0.7998,      0.8008,      0.8018,      0.8028,      0.8038,      0.8048,     0.80581,     0.80681,     0.80781,     0.80881,     0.80981,     0.81081,     0.81181,     0.81281,     0.81381,     0.81481,     0.81582,\n",
       "           0.81682,     0.81782,     0.81882,     0.81982,     0.82082,     0.82182,     0.82282,     0.82382,     0.82482,     0.82583,     0.82683,     0.82783,     0.82883,     0.82983,     0.83083,     0.83183,     0.83283,     0.83383,     0.83483,     0.83584,     0.83684,     0.83784,     0.83884,     0.83984,\n",
       "           0.84084,     0.84184,     0.84284,     0.84384,     0.84484,     0.84585,     0.84685,     0.84785,     0.84885,     0.84985,     0.85085,     0.85185,     0.85285,     0.85385,     0.85485,     0.85586,     0.85686,     0.85786,     0.85886,     0.85986,     0.86086,     0.86186,     0.86286,     0.86386,\n",
       "           0.86486,     0.86587,     0.86687,     0.86787,     0.86887,     0.86987,     0.87087,     0.87187,     0.87287,     0.87387,     0.87487,     0.87588,     0.87688,     0.87788,     0.87888,     0.87988,     0.88088,     0.88188,     0.88288,     0.88388,     0.88488,     0.88589,     0.88689,     0.88789,\n",
       "           0.88889,     0.88989,     0.89089,     0.89189,     0.89289,     0.89389,     0.89489,      0.8959,      0.8969,      0.8979,      0.8989,      0.8999,      0.9009,      0.9019,      0.9029,      0.9039,      0.9049,     0.90591,     0.90691,     0.90791,     0.90891,     0.90991,     0.91091,     0.91191,\n",
       "           0.91291,     0.91391,     0.91491,     0.91592,     0.91692,     0.91792,     0.91892,     0.91992,     0.92092,     0.92192,     0.92292,     0.92392,     0.92492,     0.92593,     0.92693,     0.92793,     0.92893,     0.92993,     0.93093,     0.93193,     0.93293,     0.93393,     0.93493,     0.93594,\n",
       "           0.93694,     0.93794,     0.93894,     0.93994,     0.94094,     0.94194,     0.94294,     0.94394,     0.94494,     0.94595,     0.94695,     0.94795,     0.94895,     0.94995,     0.95095,     0.95195,     0.95295,     0.95395,     0.95495,     0.95596,     0.95696,     0.95796,     0.95896,     0.95996,\n",
       "           0.96096,     0.96196,     0.96296,     0.96396,     0.96496,     0.96597,     0.96697,     0.96797,     0.96897,     0.96997,     0.97097,     0.97197,     0.97297,     0.97397,     0.97497,     0.97598,     0.97698,     0.97798,     0.97898,     0.97998,     0.98098,     0.98198,     0.98298,     0.98398,\n",
       "           0.98498,     0.98599,     0.98699,     0.98799,     0.98899,     0.98999,     0.99099,     0.99199,     0.99299,     0.99399,     0.99499,       0.996,       0.997,       0.998,       0.999,           1]), array([[          1,           1,           1,           1,           1,     0.99879,     0.99835,      0.9983,      0.9983,     0.99825,     0.99825,     0.99825,     0.99775,     0.99774,     0.99756,     0.99735,     0.99696,     0.99696,     0.99696,     0.99696,     0.99696,     0.99651,     0.99651,\n",
       "            0.99651,     0.99638,     0.99626,     0.99626,     0.99626,     0.99626,     0.99626,     0.99626,     0.99626,     0.99626,     0.99626,      0.9962,      0.9962,      0.9962,      0.9962,      0.9962,      0.9962,      0.9962,      0.9962,      0.9962,      0.9962,     0.99615,     0.99615,\n",
       "            0.99615,     0.99609,     0.99609,     0.99609,     0.99609,     0.99609,     0.99609,     0.99609,     0.99609,     0.99606,     0.99603,     0.99588,     0.99588,     0.99588,     0.99586,     0.99582,     0.99582,     0.99579,     0.99579,     0.99579,     0.99579,     0.99579,     0.99579,\n",
       "            0.99579,     0.99579,     0.99579,     0.99579,     0.99579,     0.99575,     0.99571,     0.99556,     0.99545,     0.99525,     0.99522,     0.99522,     0.99519,     0.99514,     0.99514,     0.99514,      0.9951,      0.9951,     0.99509,     0.99509,     0.99509,     0.99509,     0.99509,\n",
       "            0.99509,     0.99508,     0.99495,     0.99495,     0.99495,     0.99495,     0.99495,     0.99495,     0.99495,     0.99495,     0.99495,     0.99495,     0.99495,     0.99495,     0.99495,     0.99495,     0.99495,     0.99495,     0.99495,     0.99495,     0.99495,     0.99495,     0.99495,\n",
       "            0.99495,     0.99495,     0.99495,     0.99494,     0.99494,     0.99494,     0.99493,     0.99493,     0.99493,     0.99493,     0.99493,      0.9949,      0.9949,      0.9949,      0.9949,      0.9949,      0.9949,      0.9949,      0.9949,     0.99489,     0.99483,     0.99481,     0.99473,\n",
       "            0.99471,     0.99471,     0.99471,     0.99471,     0.99471,     0.99471,     0.99471,     0.99471,     0.99471,     0.99471,     0.99471,      0.9947,     0.99467,     0.99466,     0.99466,     0.99465,     0.99465,     0.99465,     0.99463,     0.99461,     0.99456,     0.99455,     0.99454,\n",
       "             0.9945,     0.99448,     0.99448,     0.99448,     0.99446,     0.99445,     0.99442,     0.99442,     0.99442,     0.99442,     0.99442,     0.99442,     0.99439,     0.99438,     0.99438,     0.99437,     0.99435,     0.99435,     0.99434,     0.99431,      0.9943,      0.9943,     0.99429,\n",
       "            0.99427,     0.99425,     0.99425,     0.99425,     0.99424,     0.99422,     0.99419,     0.99419,     0.99419,     0.99419,     0.99418,     0.99418,     0.99418,     0.99416,     0.99416,     0.99415,     0.99404,     0.99404,     0.99404,     0.99404,     0.99402,     0.99402,     0.99399,\n",
       "            0.99399,     0.99399,     0.99399,     0.99399,     0.99399,     0.99397,     0.99397,     0.99397,     0.99397,     0.99395,     0.99394,     0.99391,     0.99391,     0.99388,     0.99388,     0.99388,     0.99385,     0.99381,     0.99379,     0.99379,     0.99376,     0.99376,     0.99374,\n",
       "             0.9937,      0.9937,      0.9937,     0.99367,     0.99366,     0.99361,     0.99359,     0.99356,     0.99355,     0.99355,     0.99355,     0.99355,     0.99353,     0.99348,     0.99346,     0.99345,     0.99345,     0.99342,     0.99342,     0.99335,     0.99331,     0.99327,     0.99324,\n",
       "            0.99323,      0.9932,      0.9932,     0.99318,     0.99316,     0.99313,     0.99311,     0.99308,     0.99306,     0.99306,     0.99306,     0.99303,       0.993,     0.99298,     0.99297,     0.99297,     0.99295,      0.9929,     0.99287,     0.99283,     0.99279,     0.99279,     0.99277,\n",
       "            0.99277,     0.99274,     0.99265,     0.99265,     0.99262,     0.99261,     0.99255,     0.99251,     0.99249,     0.99247,     0.99247,     0.99242,     0.99242,     0.99235,      0.9923,     0.99224,     0.99223,     0.99222,     0.99221,     0.99214,     0.99212,     0.99208,     0.99207,\n",
       "            0.99204,     0.99198,     0.99194,     0.99191,     0.99189,     0.99189,     0.99187,      0.9918,      0.9918,     0.99177,     0.99177,     0.99175,     0.99175,     0.99171,      0.9916,      0.9916,     0.99159,     0.99159,     0.99159,     0.99159,     0.99159,     0.99158,     0.99158,\n",
       "            0.99157,     0.99156,      0.9915,     0.99147,     0.99145,      0.9914,     0.99135,     0.99128,     0.99127,     0.99121,     0.99119,      0.9911,     0.99108,     0.99103,       0.991,       0.991,     0.99095,     0.99095,     0.99095,     0.99095,     0.99092,     0.99092,     0.99089,\n",
       "            0.99085,     0.99079,     0.99074,      0.9907,     0.99066,     0.99063,     0.99057,     0.99055,     0.99049,     0.99047,     0.99045,     0.99042,     0.99039,     0.99038,     0.99037,     0.99035,     0.99031,     0.99027,     0.99025,     0.99021,      0.9902,     0.99017,     0.99014,\n",
       "             0.9901,     0.99006,     0.99006,     0.99004,        0.99,     0.98992,      0.9899,     0.98988,     0.98986,     0.98986,     0.98983,     0.98976,     0.98972,     0.98968,     0.98965,     0.98963,     0.98959,     0.98956,     0.98949,     0.98945,     0.98941,     0.98936,     0.98931,\n",
       "            0.98927,     0.98925,     0.98921,     0.98917,     0.98911,     0.98906,     0.98902,     0.98897,     0.98889,     0.98887,     0.98887,      0.9888,     0.98877,     0.98873,      0.9887,      0.9887,     0.98867,     0.98864,     0.98861,     0.98856,     0.98852,     0.98842,      0.9884,\n",
       "            0.98839,     0.98839,     0.98835,     0.98832,     0.98828,     0.98821,     0.98818,     0.98809,     0.98803,     0.98792,     0.98783,     0.98781,     0.98778,     0.98772,     0.98769,     0.98764,     0.98762,     0.98758,     0.98754,     0.98748,     0.98747,     0.98739,     0.98734,\n",
       "            0.98725,     0.98721,     0.98713,     0.98709,     0.98701,     0.98692,     0.98689,     0.98682,     0.98673,     0.98667,     0.98661,     0.98654,      0.9865,     0.98643,     0.98636,     0.98631,     0.98626,     0.98619,      0.9861,     0.98608,     0.98599,     0.98595,     0.98589,\n",
       "            0.98584,     0.98579,     0.98574,     0.98571,     0.98566,     0.98557,     0.98549,      0.9854,     0.98533,     0.98529,     0.98519,     0.98518,     0.98513,     0.98507,     0.98502,     0.98494,     0.98491,     0.98484,     0.98478,     0.98472,     0.98464,     0.98458,     0.98445,\n",
       "            0.98432,     0.98424,      0.9842,     0.98412,     0.98407,     0.98403,     0.98397,     0.98393,     0.98389,     0.98383,     0.98378,     0.98367,     0.98359,     0.98355,      0.9835,     0.98338,     0.98328,      0.9832,     0.98319,     0.98311,     0.98305,     0.98301,     0.98293,\n",
       "            0.98279,     0.98268,     0.98261,     0.98251,     0.98245,     0.98233,     0.98222,     0.98216,      0.9821,       0.982,     0.98191,     0.98184,     0.98176,     0.98169,      0.9816,     0.98151,     0.98139,     0.98137,     0.98128,     0.98121,      0.9811,     0.98098,     0.98091,\n",
       "            0.98081,      0.9807,     0.98062,     0.98058,     0.98048,     0.98043,     0.98033,      0.9803,     0.98023,     0.98013,     0.98003,     0.97999,     0.97991,     0.97981,     0.97974,     0.97962,     0.97953,     0.97946,     0.97941,     0.97927,      0.9792,     0.97913,     0.97905,\n",
       "            0.97897,     0.97883,     0.97875,     0.97863,     0.97849,     0.97842,     0.97833,     0.97822,     0.97817,     0.97801,     0.97791,      0.9778,     0.97764,     0.97757,     0.97751,     0.97741,     0.97729,     0.97719,     0.97712,       0.977,     0.97692,     0.97682,     0.97672,\n",
       "            0.97659,     0.97648,     0.97637,     0.97621,     0.97612,     0.97599,     0.97589,     0.97577,     0.97564,     0.97553,     0.97541,      0.9753,     0.97516,     0.97504,     0.97496,     0.97483,     0.97471,     0.97458,      0.9744,     0.97426,     0.97411,     0.97393,     0.97384,\n",
       "            0.97368,     0.97357,     0.97339,     0.97331,     0.97319,     0.97305,     0.97294,     0.97276,     0.97264,     0.97249,     0.97232,     0.97215,     0.97196,     0.97184,     0.97166,     0.97154,     0.97139,     0.97122,     0.97106,     0.97091,     0.97074,     0.97062,     0.97042,\n",
       "            0.97027,     0.97013,     0.96996,     0.96973,     0.96963,     0.96953,     0.96941,     0.96923,     0.96901,     0.96885,     0.96864,     0.96847,     0.96831,     0.96819,     0.96803,     0.96786,      0.9677,     0.96748,      0.9673,     0.96714,     0.96696,     0.96676,     0.96652,\n",
       "            0.96629,     0.96612,     0.96598,     0.96584,     0.96564,     0.96534,     0.96509,     0.96493,     0.96472,     0.96445,     0.96423,     0.96402,     0.96377,     0.96354,     0.96325,     0.96303,     0.96285,      0.9626,     0.96232,     0.96204,     0.96174,     0.96152,     0.96125,\n",
       "            0.96105,     0.96076,      0.9606,     0.96033,     0.96015,     0.95992,      0.9597,     0.95941,     0.95916,     0.95891,     0.95868,     0.95836,      0.9581,      0.9579,     0.95764,     0.95741,     0.95707,     0.95681,      0.9566,     0.95634,     0.95602,     0.95565,     0.95536,\n",
       "            0.95509,     0.95483,     0.95455,     0.95428,     0.95401,     0.95373,     0.95344,     0.95322,      0.9529,     0.95263,     0.95232,     0.95197,     0.95157,      0.9513,     0.95103,     0.95065,     0.95037,     0.95011,     0.94975,     0.94941,     0.94906,     0.94874,     0.94837,\n",
       "            0.94797,     0.94774,     0.94737,     0.94704,     0.94661,     0.94626,     0.94599,     0.94558,     0.94521,     0.94478,     0.94437,     0.94397,      0.9435,     0.94318,     0.94272,     0.94231,      0.9419,     0.94146,     0.94108,     0.94073,     0.94033,     0.93995,      0.9395,\n",
       "            0.93917,     0.93881,     0.93821,     0.93777,     0.93727,     0.93684,     0.93637,     0.93589,     0.93547,     0.93503,     0.93456,      0.9341,     0.93358,     0.93314,     0.93266,     0.93216,     0.93175,     0.93114,     0.93049,     0.92991,     0.92927,     0.92862,       0.928,\n",
       "            0.92744,     0.92682,     0.92627,     0.92576,     0.92505,     0.92438,     0.92381,      0.9233,     0.92265,     0.92187,     0.92121,     0.92049,     0.91981,     0.91916,     0.91846,     0.91779,     0.91694,     0.91632,     0.91556,     0.91489,     0.91423,     0.91346,     0.91266,\n",
       "              0.912,     0.91122,     0.91047,     0.90972,     0.90874,     0.90801,     0.90725,     0.90652,     0.90568,     0.90488,     0.90407,     0.90321,     0.90228,     0.90145,     0.90065,     0.89973,     0.89884,     0.89781,     0.89686,     0.89586,     0.89499,     0.89403,     0.89307,\n",
       "            0.89211,     0.89104,     0.89002,     0.88892,     0.88783,     0.88663,     0.88543,     0.88434,     0.88325,     0.88231,     0.88127,     0.87998,     0.87887,     0.87777,      0.8766,     0.87545,     0.87424,     0.87296,     0.87176,     0.87021,     0.86893,     0.86744,     0.86603,\n",
       "            0.86439,     0.86294,     0.86142,     0.85991,     0.85816,     0.85642,     0.85465,     0.85277,     0.85108,     0.84927,     0.84735,     0.84549,      0.8437,     0.84162,      0.8398,     0.83783,     0.83587,     0.83362,     0.83145,     0.82897,     0.82688,     0.82467,     0.82246,\n",
       "            0.81989,      0.8174,     0.81441,     0.81192,      0.8091,     0.80613,     0.80299,     0.79994,     0.79645,     0.79306,     0.78926,     0.78569,     0.78159,     0.77786,     0.77388,     0.76961,     0.76513,     0.76048,     0.75541,      0.7502,      0.7448,     0.73944,      0.7334,\n",
       "            0.72793,     0.72168,     0.71487,     0.70776,     0.70049,     0.69175,     0.68346,     0.67358,     0.66232,     0.65174,      0.6388,     0.62454,     0.60481,     0.58388,     0.55707,     0.51098,     0.47402,     0.46967,     0.46532,     0.46097,     0.45663,     0.45228,     0.44793,\n",
       "            0.44358,     0.43923,     0.43488,     0.43053,     0.42618,     0.42183,     0.41749,     0.41314,     0.40879,     0.40444,     0.40009,     0.39574,     0.39139,     0.38704,      0.3827,     0.37835,       0.374,     0.36965,      0.3653,     0.36095,      0.3566,     0.35225,      0.3479,\n",
       "            0.34356,     0.33921,     0.33486,     0.33051,     0.32616,     0.32181,     0.31746,     0.31311,     0.30877,     0.30442,     0.30007,     0.29572,     0.29137,     0.28702,     0.28267,     0.27832,     0.27398,     0.26963,     0.26528,     0.26093,     0.25658,     0.25223,     0.24788,\n",
       "            0.24353,     0.23918,     0.23484,     0.23049,     0.22614,     0.22179,     0.21744,     0.21309,     0.20874,     0.20439,     0.20005,      0.1957,     0.19135,       0.187,     0.18265,      0.1783,     0.17395,      0.1696,     0.16525,     0.16091,     0.15656,     0.15221,     0.14786,\n",
       "            0.14351,     0.13916,     0.13481,     0.13046,     0.12612,     0.12177,     0.11742,     0.11307,     0.10872,     0.10437,     0.10002,    0.095674,    0.091325,    0.086976,    0.082627,    0.078279,     0.07393,    0.069581,    0.065232,    0.060883,    0.056535,    0.052186,    0.047837,\n",
       "           0.043488,    0.039139,     0.03479,    0.030442,    0.026093,    0.021744,    0.017395,    0.013046,   0.0086976,   0.0043488,           0]]), 'Recall', 'Precision'], [array([          0,    0.001001,    0.002002,    0.003003,    0.004004,    0.005005,    0.006006,    0.007007,    0.008008,    0.009009,     0.01001,    0.011011,    0.012012,    0.013013,    0.014014,    0.015015,    0.016016,    0.017017,    0.018018,    0.019019,     0.02002,    0.021021,    0.022022,    0.023023,\n",
       "          0.024024,    0.025025,    0.026026,    0.027027,    0.028028,    0.029029,     0.03003,    0.031031,    0.032032,    0.033033,    0.034034,    0.035035,    0.036036,    0.037037,    0.038038,    0.039039,     0.04004,    0.041041,    0.042042,    0.043043,    0.044044,    0.045045,    0.046046,    0.047047,\n",
       "          0.048048,    0.049049,     0.05005,    0.051051,    0.052052,    0.053053,    0.054054,    0.055055,    0.056056,    0.057057,    0.058058,    0.059059,     0.06006,    0.061061,    0.062062,    0.063063,    0.064064,    0.065065,    0.066066,    0.067067,    0.068068,    0.069069,     0.07007,    0.071071,\n",
       "          0.072072,    0.073073,    0.074074,    0.075075,    0.076076,    0.077077,    0.078078,    0.079079,     0.08008,    0.081081,    0.082082,    0.083083,    0.084084,    0.085085,    0.086086,    0.087087,    0.088088,    0.089089,     0.09009,    0.091091,    0.092092,    0.093093,    0.094094,    0.095095,\n",
       "          0.096096,    0.097097,    0.098098,    0.099099,      0.1001,      0.1011,      0.1021,      0.1031,      0.1041,     0.10511,     0.10611,     0.10711,     0.10811,     0.10911,     0.11011,     0.11111,     0.11211,     0.11311,     0.11411,     0.11512,     0.11612,     0.11712,     0.11812,     0.11912,\n",
       "           0.12012,     0.12112,     0.12212,     0.12312,     0.12412,     0.12513,     0.12613,     0.12713,     0.12813,     0.12913,     0.13013,     0.13113,     0.13213,     0.13313,     0.13413,     0.13514,     0.13614,     0.13714,     0.13814,     0.13914,     0.14014,     0.14114,     0.14214,     0.14314,\n",
       "           0.14414,     0.14515,     0.14615,     0.14715,     0.14815,     0.14915,     0.15015,     0.15115,     0.15215,     0.15315,     0.15415,     0.15516,     0.15616,     0.15716,     0.15816,     0.15916,     0.16016,     0.16116,     0.16216,     0.16316,     0.16416,     0.16517,     0.16617,     0.16717,\n",
       "           0.16817,     0.16917,     0.17017,     0.17117,     0.17217,     0.17317,     0.17417,     0.17518,     0.17618,     0.17718,     0.17818,     0.17918,     0.18018,     0.18118,     0.18218,     0.18318,     0.18418,     0.18519,     0.18619,     0.18719,     0.18819,     0.18919,     0.19019,     0.19119,\n",
       "           0.19219,     0.19319,     0.19419,      0.1952,      0.1962,      0.1972,      0.1982,      0.1992,      0.2002,      0.2012,      0.2022,      0.2032,      0.2042,     0.20521,     0.20621,     0.20721,     0.20821,     0.20921,     0.21021,     0.21121,     0.21221,     0.21321,     0.21421,     0.21522,\n",
       "           0.21622,     0.21722,     0.21822,     0.21922,     0.22022,     0.22122,     0.22222,     0.22322,     0.22422,     0.22523,     0.22623,     0.22723,     0.22823,     0.22923,     0.23023,     0.23123,     0.23223,     0.23323,     0.23423,     0.23524,     0.23624,     0.23724,     0.23824,     0.23924,\n",
       "           0.24024,     0.24124,     0.24224,     0.24324,     0.24424,     0.24525,     0.24625,     0.24725,     0.24825,     0.24925,     0.25025,     0.25125,     0.25225,     0.25325,     0.25425,     0.25526,     0.25626,     0.25726,     0.25826,     0.25926,     0.26026,     0.26126,     0.26226,     0.26326,\n",
       "           0.26426,     0.26527,     0.26627,     0.26727,     0.26827,     0.26927,     0.27027,     0.27127,     0.27227,     0.27327,     0.27427,     0.27528,     0.27628,     0.27728,     0.27828,     0.27928,     0.28028,     0.28128,     0.28228,     0.28328,     0.28428,     0.28529,     0.28629,     0.28729,\n",
       "           0.28829,     0.28929,     0.29029,     0.29129,     0.29229,     0.29329,     0.29429,      0.2953,      0.2963,      0.2973,      0.2983,      0.2993,      0.3003,      0.3013,      0.3023,      0.3033,      0.3043,     0.30531,     0.30631,     0.30731,     0.30831,     0.30931,     0.31031,     0.31131,\n",
       "           0.31231,     0.31331,     0.31431,     0.31532,     0.31632,     0.31732,     0.31832,     0.31932,     0.32032,     0.32132,     0.32232,     0.32332,     0.32432,     0.32533,     0.32633,     0.32733,     0.32833,     0.32933,     0.33033,     0.33133,     0.33233,     0.33333,     0.33433,     0.33534,\n",
       "           0.33634,     0.33734,     0.33834,     0.33934,     0.34034,     0.34134,     0.34234,     0.34334,     0.34434,     0.34535,     0.34635,     0.34735,     0.34835,     0.34935,     0.35035,     0.35135,     0.35235,     0.35335,     0.35435,     0.35536,     0.35636,     0.35736,     0.35836,     0.35936,\n",
       "           0.36036,     0.36136,     0.36236,     0.36336,     0.36436,     0.36537,     0.36637,     0.36737,     0.36837,     0.36937,     0.37037,     0.37137,     0.37237,     0.37337,     0.37437,     0.37538,     0.37638,     0.37738,     0.37838,     0.37938,     0.38038,     0.38138,     0.38238,     0.38338,\n",
       "           0.38438,     0.38539,     0.38639,     0.38739,     0.38839,     0.38939,     0.39039,     0.39139,     0.39239,     0.39339,     0.39439,      0.3954,      0.3964,      0.3974,      0.3984,      0.3994,      0.4004,      0.4014,      0.4024,      0.4034,      0.4044,     0.40541,     0.40641,     0.40741,\n",
       "           0.40841,     0.40941,     0.41041,     0.41141,     0.41241,     0.41341,     0.41441,     0.41542,     0.41642,     0.41742,     0.41842,     0.41942,     0.42042,     0.42142,     0.42242,     0.42342,     0.42442,     0.42543,     0.42643,     0.42743,     0.42843,     0.42943,     0.43043,     0.43143,\n",
       "           0.43243,     0.43343,     0.43443,     0.43544,     0.43644,     0.43744,     0.43844,     0.43944,     0.44044,     0.44144,     0.44244,     0.44344,     0.44444,     0.44545,     0.44645,     0.44745,     0.44845,     0.44945,     0.45045,     0.45145,     0.45245,     0.45345,     0.45445,     0.45546,\n",
       "           0.45646,     0.45746,     0.45846,     0.45946,     0.46046,     0.46146,     0.46246,     0.46346,     0.46446,     0.46547,     0.46647,     0.46747,     0.46847,     0.46947,     0.47047,     0.47147,     0.47247,     0.47347,     0.47447,     0.47548,     0.47648,     0.47748,     0.47848,     0.47948,\n",
       "           0.48048,     0.48148,     0.48248,     0.48348,     0.48448,     0.48549,     0.48649,     0.48749,     0.48849,     0.48949,     0.49049,     0.49149,     0.49249,     0.49349,     0.49449,      0.4955,      0.4965,      0.4975,      0.4985,      0.4995,      0.5005,      0.5015,      0.5025,      0.5035,\n",
       "            0.5045,     0.50551,     0.50651,     0.50751,     0.50851,     0.50951,     0.51051,     0.51151,     0.51251,     0.51351,     0.51451,     0.51552,     0.51652,     0.51752,     0.51852,     0.51952,     0.52052,     0.52152,     0.52252,     0.52352,     0.52452,     0.52553,     0.52653,     0.52753,\n",
       "           0.52853,     0.52953,     0.53053,     0.53153,     0.53253,     0.53353,     0.53453,     0.53554,     0.53654,     0.53754,     0.53854,     0.53954,     0.54054,     0.54154,     0.54254,     0.54354,     0.54454,     0.54555,     0.54655,     0.54755,     0.54855,     0.54955,     0.55055,     0.55155,\n",
       "           0.55255,     0.55355,     0.55455,     0.55556,     0.55656,     0.55756,     0.55856,     0.55956,     0.56056,     0.56156,     0.56256,     0.56356,     0.56456,     0.56557,     0.56657,     0.56757,     0.56857,     0.56957,     0.57057,     0.57157,     0.57257,     0.57357,     0.57457,     0.57558,\n",
       "           0.57658,     0.57758,     0.57858,     0.57958,     0.58058,     0.58158,     0.58258,     0.58358,     0.58458,     0.58559,     0.58659,     0.58759,     0.58859,     0.58959,     0.59059,     0.59159,     0.59259,     0.59359,     0.59459,      0.5956,      0.5966,      0.5976,      0.5986,      0.5996,\n",
       "            0.6006,      0.6016,      0.6026,      0.6036,      0.6046,     0.60561,     0.60661,     0.60761,     0.60861,     0.60961,     0.61061,     0.61161,     0.61261,     0.61361,     0.61461,     0.61562,     0.61662,     0.61762,     0.61862,     0.61962,     0.62062,     0.62162,     0.62262,     0.62362,\n",
       "           0.62462,     0.62563,     0.62663,     0.62763,     0.62863,     0.62963,     0.63063,     0.63163,     0.63263,     0.63363,     0.63463,     0.63564,     0.63664,     0.63764,     0.63864,     0.63964,     0.64064,     0.64164,     0.64264,     0.64364,     0.64464,     0.64565,     0.64665,     0.64765,\n",
       "           0.64865,     0.64965,     0.65065,     0.65165,     0.65265,     0.65365,     0.65465,     0.65566,     0.65666,     0.65766,     0.65866,     0.65966,     0.66066,     0.66166,     0.66266,     0.66366,     0.66466,     0.66567,     0.66667,     0.66767,     0.66867,     0.66967,     0.67067,     0.67167,\n",
       "           0.67267,     0.67367,     0.67467,     0.67568,     0.67668,     0.67768,     0.67868,     0.67968,     0.68068,     0.68168,     0.68268,     0.68368,     0.68468,     0.68569,     0.68669,     0.68769,     0.68869,     0.68969,     0.69069,     0.69169,     0.69269,     0.69369,     0.69469,      0.6957,\n",
       "            0.6967,      0.6977,      0.6987,      0.6997,      0.7007,      0.7017,      0.7027,      0.7037,      0.7047,     0.70571,     0.70671,     0.70771,     0.70871,     0.70971,     0.71071,     0.71171,     0.71271,     0.71371,     0.71471,     0.71572,     0.71672,     0.71772,     0.71872,     0.71972,\n",
       "           0.72072,     0.72172,     0.72272,     0.72372,     0.72472,     0.72573,     0.72673,     0.72773,     0.72873,     0.72973,     0.73073,     0.73173,     0.73273,     0.73373,     0.73473,     0.73574,     0.73674,     0.73774,     0.73874,     0.73974,     0.74074,     0.74174,     0.74274,     0.74374,\n",
       "           0.74474,     0.74575,     0.74675,     0.74775,     0.74875,     0.74975,     0.75075,     0.75175,     0.75275,     0.75375,     0.75475,     0.75576,     0.75676,     0.75776,     0.75876,     0.75976,     0.76076,     0.76176,     0.76276,     0.76376,     0.76476,     0.76577,     0.76677,     0.76777,\n",
       "           0.76877,     0.76977,     0.77077,     0.77177,     0.77277,     0.77377,     0.77477,     0.77578,     0.77678,     0.77778,     0.77878,     0.77978,     0.78078,     0.78178,     0.78278,     0.78378,     0.78478,     0.78579,     0.78679,     0.78779,     0.78879,     0.78979,     0.79079,     0.79179,\n",
       "           0.79279,     0.79379,     0.79479,      0.7958,      0.7968,      0.7978,      0.7988,      0.7998,      0.8008,      0.8018,      0.8028,      0.8038,      0.8048,     0.80581,     0.80681,     0.80781,     0.80881,     0.80981,     0.81081,     0.81181,     0.81281,     0.81381,     0.81481,     0.81582,\n",
       "           0.81682,     0.81782,     0.81882,     0.81982,     0.82082,     0.82182,     0.82282,     0.82382,     0.82482,     0.82583,     0.82683,     0.82783,     0.82883,     0.82983,     0.83083,     0.83183,     0.83283,     0.83383,     0.83483,     0.83584,     0.83684,     0.83784,     0.83884,     0.83984,\n",
       "           0.84084,     0.84184,     0.84284,     0.84384,     0.84484,     0.84585,     0.84685,     0.84785,     0.84885,     0.84985,     0.85085,     0.85185,     0.85285,     0.85385,     0.85485,     0.85586,     0.85686,     0.85786,     0.85886,     0.85986,     0.86086,     0.86186,     0.86286,     0.86386,\n",
       "           0.86486,     0.86587,     0.86687,     0.86787,     0.86887,     0.86987,     0.87087,     0.87187,     0.87287,     0.87387,     0.87487,     0.87588,     0.87688,     0.87788,     0.87888,     0.87988,     0.88088,     0.88188,     0.88288,     0.88388,     0.88488,     0.88589,     0.88689,     0.88789,\n",
       "           0.88889,     0.88989,     0.89089,     0.89189,     0.89289,     0.89389,     0.89489,      0.8959,      0.8969,      0.8979,      0.8989,      0.8999,      0.9009,      0.9019,      0.9029,      0.9039,      0.9049,     0.90591,     0.90691,     0.90791,     0.90891,     0.90991,     0.91091,     0.91191,\n",
       "           0.91291,     0.91391,     0.91491,     0.91592,     0.91692,     0.91792,     0.91892,     0.91992,     0.92092,     0.92192,     0.92292,     0.92392,     0.92492,     0.92593,     0.92693,     0.92793,     0.92893,     0.92993,     0.93093,     0.93193,     0.93293,     0.93393,     0.93493,     0.93594,\n",
       "           0.93694,     0.93794,     0.93894,     0.93994,     0.94094,     0.94194,     0.94294,     0.94394,     0.94494,     0.94595,     0.94695,     0.94795,     0.94895,     0.94995,     0.95095,     0.95195,     0.95295,     0.95395,     0.95495,     0.95596,     0.95696,     0.95796,     0.95896,     0.95996,\n",
       "           0.96096,     0.96196,     0.96296,     0.96396,     0.96496,     0.96597,     0.96697,     0.96797,     0.96897,     0.96997,     0.97097,     0.97197,     0.97297,     0.97397,     0.97497,     0.97598,     0.97698,     0.97798,     0.97898,     0.97998,     0.98098,     0.98198,     0.98298,     0.98398,\n",
       "           0.98498,     0.98599,     0.98699,     0.98799,     0.98899,     0.98999,     0.99099,     0.99199,     0.99299,     0.99399,     0.99499,       0.996,       0.997,       0.998,       0.999,           1]), array([[    0.62058,     0.62058,      0.6386,     0.65081,     0.66012,     0.66773,     0.67409,     0.67952,     0.68451,     0.68886,     0.69301,     0.69671,     0.70009,     0.70311,     0.70616,     0.70899,     0.71146,     0.71398,     0.71645,     0.71883,     0.72101,      0.7231,     0.72508,\n",
       "            0.72702,     0.72896,     0.73079,     0.73262,     0.73432,     0.73602,      0.7376,     0.73916,     0.74074,     0.74214,     0.74372,     0.74518,     0.74654,     0.74792,      0.7492,     0.75069,     0.75192,     0.75316,     0.75438,      0.7556,     0.75684,     0.75798,     0.75913,\n",
       "             0.7603,     0.76131,     0.76243,     0.76356,     0.76447,     0.76541,     0.76657,     0.76758,     0.76858,     0.76955,     0.77046,     0.77127,     0.77216,     0.77316,     0.77401,     0.77495,     0.77572,     0.77669,     0.77744,     0.77821,       0.779,     0.77981,     0.78075,\n",
       "            0.78148,     0.78225,     0.78302,     0.78359,     0.78435,     0.78505,     0.78582,     0.78642,     0.78722,       0.788,     0.78856,     0.78929,     0.78985,      0.7904,     0.79117,     0.79174,     0.79244,     0.79304,     0.79367,     0.79429,     0.79482,     0.79561,      0.7962,\n",
       "            0.79677,     0.79727,     0.79786,     0.79845,     0.79902,     0.79963,     0.80016,     0.80059,     0.80116,     0.80172,     0.80226,     0.80282,     0.80316,     0.80371,     0.80423,     0.80477,     0.80509,     0.80564,     0.80618,     0.80656,     0.80706,     0.80748,     0.80806,\n",
       "            0.80848,     0.80899,     0.80937,     0.80995,     0.81033,     0.81091,     0.81127,     0.81168,     0.81221,     0.81262,     0.81313,     0.81348,     0.81384,     0.81433,     0.81468,     0.81509,     0.81541,     0.81591,     0.81628,     0.81664,       0.817,     0.81752,     0.81786,\n",
       "            0.81822,     0.81855,     0.81894,     0.81925,      0.8196,      0.8199,     0.82026,     0.82072,     0.82108,     0.82141,     0.82182,     0.82216,     0.82247,     0.82277,     0.82313,     0.82349,     0.82381,     0.82415,     0.82448,      0.8248,       0.825,     0.82535,     0.82569,\n",
       "            0.82602,     0.82637,      0.8267,     0.82702,      0.8273,     0.82759,     0.82773,     0.82809,     0.82838,     0.82867,     0.82902,      0.8293,     0.82944,     0.82975,     0.83003,     0.83034,     0.83051,     0.83085,     0.83116,     0.83146,      0.8316,     0.83189,     0.83216,\n",
       "            0.83228,     0.83255,     0.83286,     0.83315,     0.83328,     0.83353,     0.83374,     0.83389,      0.8342,     0.83447,     0.83461,     0.83485,     0.83511,     0.83526,      0.8355,     0.83562,     0.83589,     0.83619,     0.83631,     0.83654,     0.83663,     0.83685,     0.83697,\n",
       "            0.83719,     0.83739,     0.83752,     0.83778,     0.83788,     0.83809,     0.83822,     0.83847,     0.83864,     0.83892,     0.83904,     0.83921,     0.83937,     0.83956,     0.83967,     0.83989,     0.84002,     0.84025,     0.84036,     0.84052,     0.84068,      0.8409,     0.84099,\n",
       "            0.84119,     0.84128,      0.8414,     0.84157,     0.84162,     0.84184,     0.84196,     0.84215,     0.84224,     0.84233,     0.84251,     0.84256,     0.84273,     0.84279,     0.84291,     0.84309,     0.84317,     0.84328,     0.84346,     0.84354,     0.84378,     0.84385,     0.84393,\n",
       "            0.84404,     0.84412,     0.84419,     0.84437,     0.84445,     0.84453,     0.84474,     0.84481,     0.84494,       0.845,     0.84513,      0.8452,     0.84535,     0.84542,     0.84551,     0.84563,     0.84568,     0.84574,     0.84585,     0.84592,     0.84599,     0.84601,     0.84611,\n",
       "            0.84615,      0.8462,     0.84625,     0.84635,     0.84644,      0.8465,     0.84656,      0.8466,     0.84665,     0.84671,      0.8468,     0.84681,     0.84686,     0.84689,     0.84692,     0.84702,     0.84707,     0.84711,     0.84716,     0.84715,     0.84716,     0.84716,     0.84718,\n",
       "            0.84722,     0.84727,     0.84726,     0.84727,     0.84726,     0.84727,     0.84728,     0.84725,     0.84729,     0.84724,     0.84724,      0.8472,     0.84719,     0.84722,     0.84722,     0.84728,     0.84727,     0.84724,     0.84722,     0.84718,      0.8471,     0.84709,     0.84707,\n",
       "            0.84705,       0.847,     0.84702,     0.84706,     0.84705,     0.84704,     0.84703,     0.84703,     0.84704,     0.84702,     0.84701,     0.84695,     0.84696,     0.84693,     0.84692,     0.84684,     0.84685,     0.84681,     0.84679,     0.84671,      0.8467,      0.8466,     0.84657,\n",
       "            0.84652,     0.84649,     0.84645,     0.84636,      0.8463,     0.84619,     0.84615,     0.84612,     0.84609,     0.84606,     0.84598,     0.84596,     0.84593,     0.84588,     0.84581,      0.8457,     0.84567,     0.84556,     0.84554,     0.84544,     0.84539,     0.84529,     0.84524,\n",
       "            0.84516,     0.84507,     0.84499,     0.84492,     0.84485,     0.84476,     0.84469,     0.84461,     0.84453,     0.84446,     0.84436,     0.84431,     0.84413,     0.84403,     0.84392,     0.84384,     0.84371,     0.84364,     0.84355,     0.84346,     0.84335,      0.8433,     0.84318,\n",
       "            0.84308,       0.843,     0.84287,      0.8428,     0.84271,      0.8426,     0.84251,     0.84234,     0.84222,     0.84214,     0.84202,     0.84194,     0.84186,     0.84174,     0.84162,     0.84146,     0.84125,     0.84114,     0.84101,     0.84091,     0.84083,     0.84067,     0.84056,\n",
       "            0.84043,     0.84034,     0.84025,     0.84012,        0.84,     0.83989,     0.83974,     0.83963,      0.8395,     0.83926,      0.8391,     0.83899,     0.83888,     0.83873,     0.83858,     0.83848,     0.83838,     0.83826,     0.83815,     0.83805,     0.83785,     0.83771,     0.83754,\n",
       "            0.83734,     0.83718,     0.83703,     0.83688,     0.83676,     0.83662,      0.8365,     0.83635,     0.83618,     0.83598,     0.83579,     0.83563,     0.83547,     0.83516,     0.83494,     0.83478,     0.83462,     0.83447,     0.83434,     0.83419,     0.83406,     0.83389,     0.83374,\n",
       "            0.83358,     0.83338,      0.8332,     0.83306,     0.83291,     0.83271,     0.83248,     0.83225,     0.83205,     0.83185,     0.83165,      0.8314,     0.83119,     0.83096,     0.83075,     0.83059,     0.83036,     0.83013,     0.82991,      0.8297,     0.82922,     0.82901,     0.82876,\n",
       "             0.8285,     0.82831,     0.82805,     0.82784,     0.82757,     0.82733,     0.82708,     0.82688,     0.82665,     0.82643,     0.82626,     0.82598,     0.82571,     0.82545,     0.82521,     0.82496,     0.82473,     0.82446,     0.82419,     0.82394,     0.82365,     0.82335,     0.82308,\n",
       "            0.82281,     0.82259,     0.82234,     0.82208,     0.82182,     0.82159,     0.82132,     0.82105,     0.82077,     0.82046,     0.82022,     0.81999,     0.81975,     0.81947,     0.81893,     0.81865,     0.81835,     0.81806,     0.81777,     0.81749,     0.81717,     0.81687,     0.81653,\n",
       "            0.81624,     0.81597,      0.8157,      0.8154,     0.81508,     0.81477,     0.81442,     0.81408,     0.81382,     0.81352,     0.81324,     0.81287,     0.81257,      0.8122,     0.81186,     0.81156,     0.81124,     0.81088,     0.81051,     0.81014,     0.80981,     0.80953,      0.8092,\n",
       "            0.80879,     0.80841,     0.80811,     0.80777,     0.80741,     0.80671,     0.80635,     0.80594,     0.80558,     0.80511,     0.80467,     0.80432,     0.80389,      0.8035,     0.80305,     0.80266,     0.80225,     0.80188,     0.80145,     0.80107,     0.80064,     0.80023,     0.79989,\n",
       "            0.79952,     0.79915,     0.79871,     0.79826,     0.79786,     0.79699,     0.79661,     0.79612,     0.79569,     0.79518,     0.79477,     0.79434,     0.79394,     0.79347,     0.79296,     0.79251,      0.7921,     0.79164,     0.79115,     0.79066,     0.79019,     0.78924,     0.78874,\n",
       "            0.78825,     0.78779,     0.78728,     0.78685,     0.78635,     0.78587,     0.78542,     0.78493,     0.78451,     0.78355,     0.78301,     0.78246,     0.78196,     0.78147,     0.78091,      0.7804,      0.7798,     0.77931,     0.77877,     0.77825,     0.77773,     0.77716,     0.77616,\n",
       "            0.77567,     0.77504,     0.77445,     0.77384,     0.77323,     0.77264,     0.77201,     0.77138,      0.7708,     0.77012,     0.76954,      0.7684,     0.76774,     0.76713,     0.76648,     0.76588,     0.76523,     0.76454,     0.76397,      0.7627,     0.76212,     0.76145,     0.76076,\n",
       "            0.76007,     0.75937,     0.75877,     0.75803,      0.7573,     0.75599,     0.75522,     0.75448,     0.75374,       0.753,     0.75225,     0.75153,     0.75081,     0.75001,     0.74859,     0.74792,     0.74715,     0.74633,     0.74483,     0.74398,     0.74318,     0.74243,     0.74164,\n",
       "            0.74077,     0.73996,      0.7392,     0.73746,     0.73665,     0.73581,     0.73491,     0.73398,     0.73309,     0.73221,      0.7304,     0.72951,     0.72865,     0.72684,     0.72586,     0.72488,     0.72394,     0.72305,     0.72204,     0.72106,     0.71888,     0.71781,      0.7168,\n",
       "            0.71569,     0.71467,     0.71369,     0.71158,     0.71059,      0.7095,     0.70847,      0.7073,     0.70503,     0.70388,     0.70167,     0.70054,     0.69933,     0.69808,     0.69692,     0.69438,      0.6931,      0.6911,      0.6908,     0.68851,     0.68598,     0.68572,     0.68335,\n",
       "            0.68306,      0.6806,     0.67795,     0.67764,     0.67526,     0.67498,     0.67225,     0.66958,     0.66663,     0.66631,     0.66364,     0.66325,     0.66018,     0.65735,     0.65704,     0.65371,     0.65069,      0.6504,      0.6475,     0.64409,     0.64372,      0.6405,     0.64008,\n",
       "            0.63642,     0.63321,     0.63287,     0.62918,     0.62552,     0.62197,     0.62158,     0.61795,     0.61409,     0.61362,     0.61008,     0.60576,     0.60541,     0.60147,      0.5972,      0.5968,     0.59292,      0.5885,     0.58806,     0.58397,     0.57933,      0.5789,     0.57415,\n",
       "            0.56937,     0.56434,     0.56391,     0.55892,     0.55429,     0.54912,     0.54867,     0.54382,     0.53833,     0.53785,     0.53235,     0.52713,     0.52661,     0.52062,     0.51526,     0.50949,       0.509,     0.50357,      0.4977,     0.49718,     0.49065,     0.48412,     0.47821,\n",
       "            0.47163,     0.47105,     0.46434,     0.45821,     0.45137,      0.4508,      0.4441,     0.43743,     0.43016,      0.4296,     0.42231,     0.41567,     0.40825,     0.40762,     0.40011,     0.39282,     0.38587,     0.37844,     0.37063,     0.36303,     0.36254,     0.35481,     0.34752,\n",
       "            0.33941,     0.33145,     0.33089,     0.32283,     0.31504,     0.30639,     0.29799,      0.2975,      0.2894,     0.28122,     0.27286,     0.26447,      0.2558,     0.25533,     0.24647,     0.22989,     0.22944,     0.22086,     0.21207,     0.20429,     0.19625,     0.18796,     0.17982,\n",
       "            0.17948,     0.17131,     0.16308,     0.15535,     0.14785,     0.14048,     0.13306,     0.12547,     0.11819,     0.11103,     0.11078,     0.10366,    0.090781,    0.084612,    0.078536,    0.072932,    0.067218,    0.061652,    0.061592,    0.056597,      0.0517,    0.047184,    0.042799,\n",
       "           0.038739,    0.034987,    0.031793,    0.028503,     0.02569,    0.022621,    0.020163,    0.017671,    0.015594,    0.012275,    0.010581,     0.00915,   0.0079735,   0.0070103,   0.0059461,   0.0051109,   0.0044031,   0.0032959,   0.0028361,   0.0024017,   0.0020327,   0.0016525,   0.0014038,\n",
       "          0.0011434,  0.00097734,  0.00071247,  0.00056481,  0.00044755,   0.0003784,  0.00028193,  0.00024704,  0.00020247,  0.00018166,  8.1728e-05,  5.9902e-05,   3.666e-05,  2.9607e-05,  2.4211e-05,   1.724e-05,           0,           0,           0,           0,           0,           0,           0,\n",
       "                  0,           0,           0,           0,           0,           0,           0,           0,           0,           0,           0,           0,           0,           0,           0,           0,           0,           0,           0,           0,           0,           0,           0,\n",
       "                  0,           0,           0,           0,           0,           0,           0,           0,           0,           0,           0,           0,           0,           0,           0,           0,           0,           0,           0,           0,           0,           0,           0,\n",
       "                  0,           0,           0,           0,           0,           0,           0,           0,           0,           0,           0,           0,           0,           0,           0,           0,           0,           0,           0,           0,           0,           0,           0,\n",
       "                  0,           0,           0,           0,           0,           0,           0,           0,           0,           0,           0,           0,           0,           0,           0,           0,           0,           0,           0,           0,           0,           0,           0,\n",
       "                  0,           0,           0,           0,           0,           0,           0,           0,           0,           0,           0]]), 'Confidence', 'F1'], [array([          0,    0.001001,    0.002002,    0.003003,    0.004004,    0.005005,    0.006006,    0.007007,    0.008008,    0.009009,     0.01001,    0.011011,    0.012012,    0.013013,    0.014014,    0.015015,    0.016016,    0.017017,    0.018018,    0.019019,     0.02002,    0.021021,    0.022022,    0.023023,\n",
       "          0.024024,    0.025025,    0.026026,    0.027027,    0.028028,    0.029029,     0.03003,    0.031031,    0.032032,    0.033033,    0.034034,    0.035035,    0.036036,    0.037037,    0.038038,    0.039039,     0.04004,    0.041041,    0.042042,    0.043043,    0.044044,    0.045045,    0.046046,    0.047047,\n",
       "          0.048048,    0.049049,     0.05005,    0.051051,    0.052052,    0.053053,    0.054054,    0.055055,    0.056056,    0.057057,    0.058058,    0.059059,     0.06006,    0.061061,    0.062062,    0.063063,    0.064064,    0.065065,    0.066066,    0.067067,    0.068068,    0.069069,     0.07007,    0.071071,\n",
       "          0.072072,    0.073073,    0.074074,    0.075075,    0.076076,    0.077077,    0.078078,    0.079079,     0.08008,    0.081081,    0.082082,    0.083083,    0.084084,    0.085085,    0.086086,    0.087087,    0.088088,    0.089089,     0.09009,    0.091091,    0.092092,    0.093093,    0.094094,    0.095095,\n",
       "          0.096096,    0.097097,    0.098098,    0.099099,      0.1001,      0.1011,      0.1021,      0.1031,      0.1041,     0.10511,     0.10611,     0.10711,     0.10811,     0.10911,     0.11011,     0.11111,     0.11211,     0.11311,     0.11411,     0.11512,     0.11612,     0.11712,     0.11812,     0.11912,\n",
       "           0.12012,     0.12112,     0.12212,     0.12312,     0.12412,     0.12513,     0.12613,     0.12713,     0.12813,     0.12913,     0.13013,     0.13113,     0.13213,     0.13313,     0.13413,     0.13514,     0.13614,     0.13714,     0.13814,     0.13914,     0.14014,     0.14114,     0.14214,     0.14314,\n",
       "           0.14414,     0.14515,     0.14615,     0.14715,     0.14815,     0.14915,     0.15015,     0.15115,     0.15215,     0.15315,     0.15415,     0.15516,     0.15616,     0.15716,     0.15816,     0.15916,     0.16016,     0.16116,     0.16216,     0.16316,     0.16416,     0.16517,     0.16617,     0.16717,\n",
       "           0.16817,     0.16917,     0.17017,     0.17117,     0.17217,     0.17317,     0.17417,     0.17518,     0.17618,     0.17718,     0.17818,     0.17918,     0.18018,     0.18118,     0.18218,     0.18318,     0.18418,     0.18519,     0.18619,     0.18719,     0.18819,     0.18919,     0.19019,     0.19119,\n",
       "           0.19219,     0.19319,     0.19419,      0.1952,      0.1962,      0.1972,      0.1982,      0.1992,      0.2002,      0.2012,      0.2022,      0.2032,      0.2042,     0.20521,     0.20621,     0.20721,     0.20821,     0.20921,     0.21021,     0.21121,     0.21221,     0.21321,     0.21421,     0.21522,\n",
       "           0.21622,     0.21722,     0.21822,     0.21922,     0.22022,     0.22122,     0.22222,     0.22322,     0.22422,     0.22523,     0.22623,     0.22723,     0.22823,     0.22923,     0.23023,     0.23123,     0.23223,     0.23323,     0.23423,     0.23524,     0.23624,     0.23724,     0.23824,     0.23924,\n",
       "           0.24024,     0.24124,     0.24224,     0.24324,     0.24424,     0.24525,     0.24625,     0.24725,     0.24825,     0.24925,     0.25025,     0.25125,     0.25225,     0.25325,     0.25425,     0.25526,     0.25626,     0.25726,     0.25826,     0.25926,     0.26026,     0.26126,     0.26226,     0.26326,\n",
       "           0.26426,     0.26527,     0.26627,     0.26727,     0.26827,     0.26927,     0.27027,     0.27127,     0.27227,     0.27327,     0.27427,     0.27528,     0.27628,     0.27728,     0.27828,     0.27928,     0.28028,     0.28128,     0.28228,     0.28328,     0.28428,     0.28529,     0.28629,     0.28729,\n",
       "           0.28829,     0.28929,     0.29029,     0.29129,     0.29229,     0.29329,     0.29429,      0.2953,      0.2963,      0.2973,      0.2983,      0.2993,      0.3003,      0.3013,      0.3023,      0.3033,      0.3043,     0.30531,     0.30631,     0.30731,     0.30831,     0.30931,     0.31031,     0.31131,\n",
       "           0.31231,     0.31331,     0.31431,     0.31532,     0.31632,     0.31732,     0.31832,     0.31932,     0.32032,     0.32132,     0.32232,     0.32332,     0.32432,     0.32533,     0.32633,     0.32733,     0.32833,     0.32933,     0.33033,     0.33133,     0.33233,     0.33333,     0.33433,     0.33534,\n",
       "           0.33634,     0.33734,     0.33834,     0.33934,     0.34034,     0.34134,     0.34234,     0.34334,     0.34434,     0.34535,     0.34635,     0.34735,     0.34835,     0.34935,     0.35035,     0.35135,     0.35235,     0.35335,     0.35435,     0.35536,     0.35636,     0.35736,     0.35836,     0.35936,\n",
       "           0.36036,     0.36136,     0.36236,     0.36336,     0.36436,     0.36537,     0.36637,     0.36737,     0.36837,     0.36937,     0.37037,     0.37137,     0.37237,     0.37337,     0.37437,     0.37538,     0.37638,     0.37738,     0.37838,     0.37938,     0.38038,     0.38138,     0.38238,     0.38338,\n",
       "           0.38438,     0.38539,     0.38639,     0.38739,     0.38839,     0.38939,     0.39039,     0.39139,     0.39239,     0.39339,     0.39439,      0.3954,      0.3964,      0.3974,      0.3984,      0.3994,      0.4004,      0.4014,      0.4024,      0.4034,      0.4044,     0.40541,     0.40641,     0.40741,\n",
       "           0.40841,     0.40941,     0.41041,     0.41141,     0.41241,     0.41341,     0.41441,     0.41542,     0.41642,     0.41742,     0.41842,     0.41942,     0.42042,     0.42142,     0.42242,     0.42342,     0.42442,     0.42543,     0.42643,     0.42743,     0.42843,     0.42943,     0.43043,     0.43143,\n",
       "           0.43243,     0.43343,     0.43443,     0.43544,     0.43644,     0.43744,     0.43844,     0.43944,     0.44044,     0.44144,     0.44244,     0.44344,     0.44444,     0.44545,     0.44645,     0.44745,     0.44845,     0.44945,     0.45045,     0.45145,     0.45245,     0.45345,     0.45445,     0.45546,\n",
       "           0.45646,     0.45746,     0.45846,     0.45946,     0.46046,     0.46146,     0.46246,     0.46346,     0.46446,     0.46547,     0.46647,     0.46747,     0.46847,     0.46947,     0.47047,     0.47147,     0.47247,     0.47347,     0.47447,     0.47548,     0.47648,     0.47748,     0.47848,     0.47948,\n",
       "           0.48048,     0.48148,     0.48248,     0.48348,     0.48448,     0.48549,     0.48649,     0.48749,     0.48849,     0.48949,     0.49049,     0.49149,     0.49249,     0.49349,     0.49449,      0.4955,      0.4965,      0.4975,      0.4985,      0.4995,      0.5005,      0.5015,      0.5025,      0.5035,\n",
       "            0.5045,     0.50551,     0.50651,     0.50751,     0.50851,     0.50951,     0.51051,     0.51151,     0.51251,     0.51351,     0.51451,     0.51552,     0.51652,     0.51752,     0.51852,     0.51952,     0.52052,     0.52152,     0.52252,     0.52352,     0.52452,     0.52553,     0.52653,     0.52753,\n",
       "           0.52853,     0.52953,     0.53053,     0.53153,     0.53253,     0.53353,     0.53453,     0.53554,     0.53654,     0.53754,     0.53854,     0.53954,     0.54054,     0.54154,     0.54254,     0.54354,     0.54454,     0.54555,     0.54655,     0.54755,     0.54855,     0.54955,     0.55055,     0.55155,\n",
       "           0.55255,     0.55355,     0.55455,     0.55556,     0.55656,     0.55756,     0.55856,     0.55956,     0.56056,     0.56156,     0.56256,     0.56356,     0.56456,     0.56557,     0.56657,     0.56757,     0.56857,     0.56957,     0.57057,     0.57157,     0.57257,     0.57357,     0.57457,     0.57558,\n",
       "           0.57658,     0.57758,     0.57858,     0.57958,     0.58058,     0.58158,     0.58258,     0.58358,     0.58458,     0.58559,     0.58659,     0.58759,     0.58859,     0.58959,     0.59059,     0.59159,     0.59259,     0.59359,     0.59459,      0.5956,      0.5966,      0.5976,      0.5986,      0.5996,\n",
       "            0.6006,      0.6016,      0.6026,      0.6036,      0.6046,     0.60561,     0.60661,     0.60761,     0.60861,     0.60961,     0.61061,     0.61161,     0.61261,     0.61361,     0.61461,     0.61562,     0.61662,     0.61762,     0.61862,     0.61962,     0.62062,     0.62162,     0.62262,     0.62362,\n",
       "           0.62462,     0.62563,     0.62663,     0.62763,     0.62863,     0.62963,     0.63063,     0.63163,     0.63263,     0.63363,     0.63463,     0.63564,     0.63664,     0.63764,     0.63864,     0.63964,     0.64064,     0.64164,     0.64264,     0.64364,     0.64464,     0.64565,     0.64665,     0.64765,\n",
       "           0.64865,     0.64965,     0.65065,     0.65165,     0.65265,     0.65365,     0.65465,     0.65566,     0.65666,     0.65766,     0.65866,     0.65966,     0.66066,     0.66166,     0.66266,     0.66366,     0.66466,     0.66567,     0.66667,     0.66767,     0.66867,     0.66967,     0.67067,     0.67167,\n",
       "           0.67267,     0.67367,     0.67467,     0.67568,     0.67668,     0.67768,     0.67868,     0.67968,     0.68068,     0.68168,     0.68268,     0.68368,     0.68468,     0.68569,     0.68669,     0.68769,     0.68869,     0.68969,     0.69069,     0.69169,     0.69269,     0.69369,     0.69469,      0.6957,\n",
       "            0.6967,      0.6977,      0.6987,      0.6997,      0.7007,      0.7017,      0.7027,      0.7037,      0.7047,     0.70571,     0.70671,     0.70771,     0.70871,     0.70971,     0.71071,     0.71171,     0.71271,     0.71371,     0.71471,     0.71572,     0.71672,     0.71772,     0.71872,     0.71972,\n",
       "           0.72072,     0.72172,     0.72272,     0.72372,     0.72472,     0.72573,     0.72673,     0.72773,     0.72873,     0.72973,     0.73073,     0.73173,     0.73273,     0.73373,     0.73473,     0.73574,     0.73674,     0.73774,     0.73874,     0.73974,     0.74074,     0.74174,     0.74274,     0.74374,\n",
       "           0.74474,     0.74575,     0.74675,     0.74775,     0.74875,     0.74975,     0.75075,     0.75175,     0.75275,     0.75375,     0.75475,     0.75576,     0.75676,     0.75776,     0.75876,     0.75976,     0.76076,     0.76176,     0.76276,     0.76376,     0.76476,     0.76577,     0.76677,     0.76777,\n",
       "           0.76877,     0.76977,     0.77077,     0.77177,     0.77277,     0.77377,     0.77477,     0.77578,     0.77678,     0.77778,     0.77878,     0.77978,     0.78078,     0.78178,     0.78278,     0.78378,     0.78478,     0.78579,     0.78679,     0.78779,     0.78879,     0.78979,     0.79079,     0.79179,\n",
       "           0.79279,     0.79379,     0.79479,      0.7958,      0.7968,      0.7978,      0.7988,      0.7998,      0.8008,      0.8018,      0.8028,      0.8038,      0.8048,     0.80581,     0.80681,     0.80781,     0.80881,     0.80981,     0.81081,     0.81181,     0.81281,     0.81381,     0.81481,     0.81582,\n",
       "           0.81682,     0.81782,     0.81882,     0.81982,     0.82082,     0.82182,     0.82282,     0.82382,     0.82482,     0.82583,     0.82683,     0.82783,     0.82883,     0.82983,     0.83083,     0.83183,     0.83283,     0.83383,     0.83483,     0.83584,     0.83684,     0.83784,     0.83884,     0.83984,\n",
       "           0.84084,     0.84184,     0.84284,     0.84384,     0.84484,     0.84585,     0.84685,     0.84785,     0.84885,     0.84985,     0.85085,     0.85185,     0.85285,     0.85385,     0.85485,     0.85586,     0.85686,     0.85786,     0.85886,     0.85986,     0.86086,     0.86186,     0.86286,     0.86386,\n",
       "           0.86486,     0.86587,     0.86687,     0.86787,     0.86887,     0.86987,     0.87087,     0.87187,     0.87287,     0.87387,     0.87487,     0.87588,     0.87688,     0.87788,     0.87888,     0.87988,     0.88088,     0.88188,     0.88288,     0.88388,     0.88488,     0.88589,     0.88689,     0.88789,\n",
       "           0.88889,     0.88989,     0.89089,     0.89189,     0.89289,     0.89389,     0.89489,      0.8959,      0.8969,      0.8979,      0.8989,      0.8999,      0.9009,      0.9019,      0.9029,      0.9039,      0.9049,     0.90591,     0.90691,     0.90791,     0.90891,     0.90991,     0.91091,     0.91191,\n",
       "           0.91291,     0.91391,     0.91491,     0.91592,     0.91692,     0.91792,     0.91892,     0.91992,     0.92092,     0.92192,     0.92292,     0.92392,     0.92492,     0.92593,     0.92693,     0.92793,     0.92893,     0.92993,     0.93093,     0.93193,     0.93293,     0.93393,     0.93493,     0.93594,\n",
       "           0.93694,     0.93794,     0.93894,     0.93994,     0.94094,     0.94194,     0.94294,     0.94394,     0.94494,     0.94595,     0.94695,     0.94795,     0.94895,     0.94995,     0.95095,     0.95195,     0.95295,     0.95395,     0.95495,     0.95596,     0.95696,     0.95796,     0.95896,     0.95996,\n",
       "           0.96096,     0.96196,     0.96296,     0.96396,     0.96496,     0.96597,     0.96697,     0.96797,     0.96897,     0.96997,     0.97097,     0.97197,     0.97297,     0.97397,     0.97497,     0.97598,     0.97698,     0.97798,     0.97898,     0.97998,     0.98098,     0.98198,     0.98298,     0.98398,\n",
       "           0.98498,     0.98599,     0.98699,     0.98799,     0.98899,     0.98999,     0.99099,     0.99199,     0.99299,     0.99399,     0.99499,       0.996,       0.997,       0.998,       0.999,           1]), array([[    0.47626,     0.47626,      0.4979,       0.513,     0.52473,      0.5345,     0.54276,      0.5499,     0.55654,     0.56239,     0.56802,      0.5731,     0.57776,     0.58196,     0.58623,     0.59021,     0.59372,     0.59734,     0.60088,     0.60431,     0.60745,     0.61049,     0.61338,\n",
       "            0.61625,     0.61914,     0.62185,     0.62456,     0.62713,     0.62968,     0.63209,     0.63447,      0.6369,     0.63907,      0.6415,     0.64377,     0.64589,     0.64807,     0.65007,     0.65241,     0.65436,     0.65635,     0.65831,     0.66027,     0.66228,     0.66412,     0.66599,\n",
       "             0.6679,     0.66955,     0.67137,     0.67322,     0.67471,     0.67627,     0.67819,     0.67986,     0.68154,     0.68317,     0.68475,     0.68612,     0.68767,     0.68937,     0.69083,     0.69243,     0.69374,     0.69542,     0.69674,     0.69806,     0.69943,     0.70085,     0.70246,\n",
       "            0.70379,     0.70514,     0.70651,     0.70757,     0.70894,     0.71023,     0.71159,     0.71269,     0.71413,     0.71555,     0.71656,     0.71791,     0.71895,     0.71993,     0.72136,     0.72243,     0.72379,      0.7249,     0.72603,     0.72719,     0.72823,     0.72971,     0.73086,\n",
       "            0.73195,     0.73296,     0.73406,     0.73517,     0.73625,     0.73743,      0.7385,     0.73935,     0.74046,     0.74157,      0.7426,      0.7437,     0.74442,     0.74553,     0.74655,     0.74765,     0.74829,     0.74937,     0.75047,     0.75127,     0.75231,     0.75312,     0.75428,\n",
       "            0.75513,      0.7562,     0.75696,     0.75814,     0.75894,     0.76014,     0.76093,     0.76177,      0.7629,     0.76372,     0.76482,     0.76558,     0.76632,     0.76739,     0.76815,     0.76902,     0.76973,     0.77087,     0.77166,     0.77246,     0.77322,      0.7744,     0.77517,\n",
       "            0.77595,     0.77672,      0.7776,     0.77831,     0.77909,     0.77981,     0.78062,      0.7817,     0.78254,     0.78329,     0.78419,     0.78495,      0.7857,     0.78646,     0.78731,     0.78814,     0.78891,     0.78972,     0.79051,     0.79128,     0.79172,     0.79254,     0.79335,\n",
       "            0.79418,       0.795,     0.79583,     0.79662,     0.79736,     0.79806,     0.79843,     0.79926,     0.80003,      0.8008,     0.80164,     0.80243,     0.80281,     0.80357,     0.80438,     0.80517,     0.80561,     0.80644,     0.80729,      0.8081,     0.80847,     0.80928,     0.81005,\n",
       "             0.8104,     0.81117,     0.81199,      0.8128,     0.81319,     0.81393,     0.81461,     0.81502,     0.81583,     0.81658,     0.81698,     0.81772,     0.81851,     0.81895,     0.81967,     0.82006,     0.82087,     0.82173,     0.82211,      0.8229,     0.82326,     0.82402,      0.8244,\n",
       "            0.82513,      0.8259,     0.82631,     0.82713,      0.8275,     0.82825,     0.82868,     0.82948,     0.82995,      0.8308,     0.83123,     0.83196,     0.83241,     0.83316,     0.83354,     0.83429,     0.83476,     0.83556,     0.83598,     0.83671,      0.8372,     0.83807,     0.83847,\n",
       "            0.83925,     0.83964,     0.84006,     0.84085,      0.8412,     0.84199,     0.84241,     0.84322,     0.84359,     0.84396,     0.84473,      0.8451,     0.84583,     0.84619,      0.8466,     0.84745,     0.84789,     0.84834,     0.84907,     0.84948,     0.85042,     0.85082,      0.8512,\n",
       "            0.85192,     0.85231,     0.85266,     0.85344,     0.85381,      0.8542,     0.85503,      0.8554,     0.85617,     0.85656,     0.85706,     0.85747,     0.85831,     0.85872,     0.85912,     0.85988,     0.86028,     0.86067,     0.86141,     0.86186,     0.86229,     0.86262,     0.86335,\n",
       "            0.86368,     0.86405,     0.86447,      0.8652,     0.86567,     0.86607,     0.86675,     0.86714,     0.86756,     0.86795,      0.8687,     0.86904,     0.86943,     0.86982,     0.87051,     0.87097,     0.87137,     0.87173,     0.87245,     0.87277,     0.87309,     0.87345,     0.87384,\n",
       "            0.87461,     0.87503,     0.87536,     0.87572,     0.87642,     0.87678,     0.87718,      0.8775,     0.87792,     0.87859,     0.87895,     0.87927,     0.87964,     0.88045,     0.88078,     0.88122,     0.88159,     0.88195,     0.88234,     0.88268,     0.88332,     0.88369,     0.88404,\n",
       "            0.88438,      0.8847,     0.88548,     0.88584,     0.88617,     0.88651,      0.8869,      0.8873,     0.88805,     0.88842,     0.88881,     0.88915,     0.88956,     0.88991,     0.89033,       0.891,     0.89139,      0.8917,     0.89206,     0.89233,     0.89268,     0.89332,     0.89372,\n",
       "            0.89401,     0.89432,     0.89467,     0.89501,     0.89538,     0.89602,     0.89636,     0.89673,     0.89709,     0.89745,     0.89774,      0.8981,     0.89846,     0.89877,     0.89909,     0.89973,     0.90009,     0.90032,     0.90067,       0.901,     0.90133,     0.90162,     0.90195,\n",
       "            0.90223,     0.90253,      0.9032,     0.90352,     0.90385,     0.90414,     0.90441,     0.90469,     0.90499,      0.9053,     0.90562,     0.90595,     0.90656,     0.90686,      0.9071,     0.90738,     0.90768,       0.908,     0.90829,     0.90861,     0.90887,     0.90919,     0.90983,\n",
       "            0.91011,     0.91042,     0.91073,     0.91102,     0.91135,     0.91164,     0.91194,     0.91218,     0.91246,     0.91278,     0.91304,      0.9134,     0.91372,     0.91404,     0.91435,      0.9146,     0.91511,     0.91543,     0.91564,     0.91595,     0.91628,     0.91649,     0.91677,\n",
       "            0.91707,     0.91744,     0.91776,     0.91803,     0.91827,     0.91861,     0.91889,     0.91916,      0.9194,     0.91997,     0.92024,     0.92052,     0.92083,     0.92107,     0.92136,     0.92167,     0.92194,     0.92222,     0.92255,     0.92288,     0.92315,     0.92343,     0.92362,\n",
       "            0.92385,     0.92413,     0.92439,     0.92464,     0.92495,     0.92522,     0.92552,     0.92583,     0.92608,      0.9263,     0.92653,      0.9268,     0.92708,     0.92767,      0.9279,     0.92823,     0.92845,     0.92872,     0.92904,     0.92927,     0.92954,     0.92979,     0.93004,\n",
       "            0.93032,     0.93059,     0.93088,     0.93117,      0.9315,     0.93175,       0.932,     0.93222,     0.93249,     0.93274,     0.93296,     0.93319,     0.93342,     0.93361,     0.93384,     0.93413,     0.93434,     0.93457,     0.93483,     0.93505,     0.93549,     0.93575,     0.93597,\n",
       "            0.93621,     0.93644,      0.9367,     0.93699,      0.9372,     0.93746,     0.93772,     0.93796,     0.93819,     0.93848,     0.93876,     0.93898,     0.93921,     0.93938,     0.93956,     0.93977,     0.93999,      0.9402,     0.94042,     0.94062,     0.94086,     0.94105,     0.94125,\n",
       "            0.94147,      0.9417,     0.94192,     0.94211,     0.94235,     0.94255,     0.94278,     0.94305,     0.94326,     0.94346,     0.94368,     0.94392,     0.94414,     0.94436,      0.9448,     0.94504,     0.94527,     0.94551,     0.94573,     0.94599,     0.94617,     0.94635,     0.94655,\n",
       "            0.94677,     0.94699,      0.9472,     0.94737,     0.94754,     0.94777,     0.94793,     0.94814,     0.94838,     0.94858,     0.94879,     0.94899,     0.94923,     0.94943,     0.94966,     0.94983,     0.95008,     0.95026,      0.9504,     0.95059,      0.9508,     0.95102,     0.95119,\n",
       "            0.95137,     0.95158,     0.95184,     0.95205,     0.95225,     0.95268,     0.95289,     0.95305,     0.95328,     0.95343,     0.95362,     0.95385,     0.95402,     0.95422,     0.95443,     0.95466,     0.95481,     0.95498,     0.95515,     0.95536,     0.95556,     0.95579,     0.95604,\n",
       "            0.95627,     0.95647,     0.95662,     0.95676,       0.957,     0.95742,     0.95758,     0.95777,     0.95796,      0.9581,     0.95831,     0.95853,     0.95872,     0.95889,     0.95908,     0.95928,      0.9595,      0.9597,     0.95987,     0.96006,      0.9602,     0.96056,     0.96071,\n",
       "            0.96089,      0.9611,     0.96125,     0.96146,     0.96164,     0.96182,     0.96207,     0.96231,     0.96247,     0.96288,     0.96302,     0.96322,     0.96345,     0.96365,     0.96386,     0.96405,     0.96424,     0.96442,     0.96462,     0.96485,     0.96498,     0.96514,     0.96557,\n",
       "            0.96576,     0.96592,     0.96603,     0.96615,     0.96634,     0.96652,     0.96676,     0.96696,     0.96714,     0.96728,     0.96744,     0.96778,     0.96797,     0.96808,     0.96824,     0.96836,      0.9685,     0.96866,     0.96885,     0.96921,     0.96939,      0.9695,     0.96961,\n",
       "            0.96973,     0.96987,     0.97008,     0.97021,     0.97038,     0.97068,     0.97086,     0.97101,     0.97115,     0.97138,     0.97153,     0.97165,     0.97183,     0.97197,     0.97233,     0.97249,     0.97264,     0.97283,     0.97309,      0.9732,     0.97335,     0.97352,     0.97365,\n",
       "            0.97381,     0.97392,     0.97411,     0.97447,     0.97465,     0.97479,     0.97493,     0.97505,     0.97519,     0.97537,     0.97563,     0.97578,     0.97593,     0.97619,     0.97636,     0.97648,     0.97665,     0.97678,     0.97692,     0.97705,     0.97729,     0.97748,     0.97755,\n",
       "            0.97767,     0.97785,     0.97797,     0.97826,     0.97838,     0.97848,     0.97868,     0.97882,      0.9791,     0.97922,     0.97945,     0.97955,     0.97974,     0.97984,     0.97998,     0.98022,     0.98031,     0.98047,     0.98051,     0.98071,     0.98099,     0.98102,     0.98131,\n",
       "            0.98134,     0.98158,     0.98183,     0.98184,     0.98209,      0.9821,     0.98237,     0.98268,     0.98301,     0.98304,      0.9832,      0.9832,     0.98353,     0.98378,     0.98378,     0.98397,     0.98414,     0.98418,     0.98447,     0.98476,     0.98479,     0.98502,     0.98503,\n",
       "            0.98524,     0.98549,     0.98553,     0.98577,     0.98597,      0.9862,     0.98624,     0.98644,     0.98672,     0.98675,     0.98701,     0.98727,     0.98731,     0.98754,     0.98768,      0.9877,      0.9879,     0.98824,     0.98827,     0.98838,     0.98859,     0.98861,     0.98872,\n",
       "            0.98888,      0.9891,     0.98917,     0.98936,     0.98957,     0.98973,     0.98975,      0.9899,     0.99005,     0.99006,     0.99021,     0.99037,     0.99038,     0.99047,     0.99071,     0.99089,      0.9909,       0.991,     0.99118,     0.99119,     0.99146,     0.99158,     0.99158,\n",
       "            0.99176,     0.99176,     0.99189,     0.99207,     0.99222,     0.99223,     0.99246,     0.99261,     0.99278,     0.99278,     0.99296,     0.99306,     0.99316,     0.99318,     0.99329,     0.99344,      0.9935,     0.99365,     0.99374,     0.99387,     0.99386,     0.99397,     0.99394,\n",
       "              0.994,     0.99415,     0.99416,     0.99418,     0.99424,      0.9943,     0.99438,     0.99437,     0.99438,     0.99446,     0.99455,     0.99464,     0.99468,      0.9947,     0.99462,     0.99484,     0.99483,     0.99487,      0.9949,     0.99489,     0.99475,     0.99482,     0.99484,\n",
       "            0.99483,       0.995,     0.99499,     0.99512,     0.99516,     0.99556,     0.99563,     0.99565,     0.99575,     0.99586,     0.99585,     0.99599,     0.99604,     0.99604,     0.99614,     0.99611,     0.99606,     0.99601,     0.99601,     0.99612,     0.99613,     0.99631,     0.99624,\n",
       "            0.99687,     0.99673,      0.9966,     0.99739,     0.99763,      0.9982,     0.99798,     0.99807,     0.99825,     0.99833,     0.99871,     0.99925,           1,           1,           1,           1,           1,           1,           1,           1,           1,           1,           1,\n",
       "                  1,           1,           1,           1,           1,           1,           1,           1,           1,           1,           1,           1,           1,           1,           1,           1,           1,           1,           1,           1,           1,           1,           1,\n",
       "                  1,           1,           1,           1,           1,           1,           1,           1,           1,           1,           1,           1,           1,           1,           1,           1,           1,           1,           1,           1,           1,           1,           1,\n",
       "                  1,           1,           1,           1,           1,           1,           1,           1,           1,           1,           1,           1,           1,           1,           1,           1,           1,           1,           1,           1,           1,           1,           1,\n",
       "                  1,           1,           1,           1,           1,           1,           1,           1,           1,           1,           1,           1,           1,           1,           1,           1,           1,           1,           1,           1,           1,           1,           1,\n",
       "                  1,           1,           1,           1,           1,           1,           1,           1,           1,           1,           1,           1,           1,           1,           1,           1,           1,           1,           1,           1,           1,           1,           1,\n",
       "                  1,           1,           1,           1,           1,           1,           1,           1,           1,           1,           1]]), 'Confidence', 'Precision'], [array([          0,    0.001001,    0.002002,    0.003003,    0.004004,    0.005005,    0.006006,    0.007007,    0.008008,    0.009009,     0.01001,    0.011011,    0.012012,    0.013013,    0.014014,    0.015015,    0.016016,    0.017017,    0.018018,    0.019019,     0.02002,    0.021021,    0.022022,    0.023023,\n",
       "          0.024024,    0.025025,    0.026026,    0.027027,    0.028028,    0.029029,     0.03003,    0.031031,    0.032032,    0.033033,    0.034034,    0.035035,    0.036036,    0.037037,    0.038038,    0.039039,     0.04004,    0.041041,    0.042042,    0.043043,    0.044044,    0.045045,    0.046046,    0.047047,\n",
       "          0.048048,    0.049049,     0.05005,    0.051051,    0.052052,    0.053053,    0.054054,    0.055055,    0.056056,    0.057057,    0.058058,    0.059059,     0.06006,    0.061061,    0.062062,    0.063063,    0.064064,    0.065065,    0.066066,    0.067067,    0.068068,    0.069069,     0.07007,    0.071071,\n",
       "          0.072072,    0.073073,    0.074074,    0.075075,    0.076076,    0.077077,    0.078078,    0.079079,     0.08008,    0.081081,    0.082082,    0.083083,    0.084084,    0.085085,    0.086086,    0.087087,    0.088088,    0.089089,     0.09009,    0.091091,    0.092092,    0.093093,    0.094094,    0.095095,\n",
       "          0.096096,    0.097097,    0.098098,    0.099099,      0.1001,      0.1011,      0.1021,      0.1031,      0.1041,     0.10511,     0.10611,     0.10711,     0.10811,     0.10911,     0.11011,     0.11111,     0.11211,     0.11311,     0.11411,     0.11512,     0.11612,     0.11712,     0.11812,     0.11912,\n",
       "           0.12012,     0.12112,     0.12212,     0.12312,     0.12412,     0.12513,     0.12613,     0.12713,     0.12813,     0.12913,     0.13013,     0.13113,     0.13213,     0.13313,     0.13413,     0.13514,     0.13614,     0.13714,     0.13814,     0.13914,     0.14014,     0.14114,     0.14214,     0.14314,\n",
       "           0.14414,     0.14515,     0.14615,     0.14715,     0.14815,     0.14915,     0.15015,     0.15115,     0.15215,     0.15315,     0.15415,     0.15516,     0.15616,     0.15716,     0.15816,     0.15916,     0.16016,     0.16116,     0.16216,     0.16316,     0.16416,     0.16517,     0.16617,     0.16717,\n",
       "           0.16817,     0.16917,     0.17017,     0.17117,     0.17217,     0.17317,     0.17417,     0.17518,     0.17618,     0.17718,     0.17818,     0.17918,     0.18018,     0.18118,     0.18218,     0.18318,     0.18418,     0.18519,     0.18619,     0.18719,     0.18819,     0.18919,     0.19019,     0.19119,\n",
       "           0.19219,     0.19319,     0.19419,      0.1952,      0.1962,      0.1972,      0.1982,      0.1992,      0.2002,      0.2012,      0.2022,      0.2032,      0.2042,     0.20521,     0.20621,     0.20721,     0.20821,     0.20921,     0.21021,     0.21121,     0.21221,     0.21321,     0.21421,     0.21522,\n",
       "           0.21622,     0.21722,     0.21822,     0.21922,     0.22022,     0.22122,     0.22222,     0.22322,     0.22422,     0.22523,     0.22623,     0.22723,     0.22823,     0.22923,     0.23023,     0.23123,     0.23223,     0.23323,     0.23423,     0.23524,     0.23624,     0.23724,     0.23824,     0.23924,\n",
       "           0.24024,     0.24124,     0.24224,     0.24324,     0.24424,     0.24525,     0.24625,     0.24725,     0.24825,     0.24925,     0.25025,     0.25125,     0.25225,     0.25325,     0.25425,     0.25526,     0.25626,     0.25726,     0.25826,     0.25926,     0.26026,     0.26126,     0.26226,     0.26326,\n",
       "           0.26426,     0.26527,     0.26627,     0.26727,     0.26827,     0.26927,     0.27027,     0.27127,     0.27227,     0.27327,     0.27427,     0.27528,     0.27628,     0.27728,     0.27828,     0.27928,     0.28028,     0.28128,     0.28228,     0.28328,     0.28428,     0.28529,     0.28629,     0.28729,\n",
       "           0.28829,     0.28929,     0.29029,     0.29129,     0.29229,     0.29329,     0.29429,      0.2953,      0.2963,      0.2973,      0.2983,      0.2993,      0.3003,      0.3013,      0.3023,      0.3033,      0.3043,     0.30531,     0.30631,     0.30731,     0.30831,     0.30931,     0.31031,     0.31131,\n",
       "           0.31231,     0.31331,     0.31431,     0.31532,     0.31632,     0.31732,     0.31832,     0.31932,     0.32032,     0.32132,     0.32232,     0.32332,     0.32432,     0.32533,     0.32633,     0.32733,     0.32833,     0.32933,     0.33033,     0.33133,     0.33233,     0.33333,     0.33433,     0.33534,\n",
       "           0.33634,     0.33734,     0.33834,     0.33934,     0.34034,     0.34134,     0.34234,     0.34334,     0.34434,     0.34535,     0.34635,     0.34735,     0.34835,     0.34935,     0.35035,     0.35135,     0.35235,     0.35335,     0.35435,     0.35536,     0.35636,     0.35736,     0.35836,     0.35936,\n",
       "           0.36036,     0.36136,     0.36236,     0.36336,     0.36436,     0.36537,     0.36637,     0.36737,     0.36837,     0.36937,     0.37037,     0.37137,     0.37237,     0.37337,     0.37437,     0.37538,     0.37638,     0.37738,     0.37838,     0.37938,     0.38038,     0.38138,     0.38238,     0.38338,\n",
       "           0.38438,     0.38539,     0.38639,     0.38739,     0.38839,     0.38939,     0.39039,     0.39139,     0.39239,     0.39339,     0.39439,      0.3954,      0.3964,      0.3974,      0.3984,      0.3994,      0.4004,      0.4014,      0.4024,      0.4034,      0.4044,     0.40541,     0.40641,     0.40741,\n",
       "           0.40841,     0.40941,     0.41041,     0.41141,     0.41241,     0.41341,     0.41441,     0.41542,     0.41642,     0.41742,     0.41842,     0.41942,     0.42042,     0.42142,     0.42242,     0.42342,     0.42442,     0.42543,     0.42643,     0.42743,     0.42843,     0.42943,     0.43043,     0.43143,\n",
       "           0.43243,     0.43343,     0.43443,     0.43544,     0.43644,     0.43744,     0.43844,     0.43944,     0.44044,     0.44144,     0.44244,     0.44344,     0.44444,     0.44545,     0.44645,     0.44745,     0.44845,     0.44945,     0.45045,     0.45145,     0.45245,     0.45345,     0.45445,     0.45546,\n",
       "           0.45646,     0.45746,     0.45846,     0.45946,     0.46046,     0.46146,     0.46246,     0.46346,     0.46446,     0.46547,     0.46647,     0.46747,     0.46847,     0.46947,     0.47047,     0.47147,     0.47247,     0.47347,     0.47447,     0.47548,     0.47648,     0.47748,     0.47848,     0.47948,\n",
       "           0.48048,     0.48148,     0.48248,     0.48348,     0.48448,     0.48549,     0.48649,     0.48749,     0.48849,     0.48949,     0.49049,     0.49149,     0.49249,     0.49349,     0.49449,      0.4955,      0.4965,      0.4975,      0.4985,      0.4995,      0.5005,      0.5015,      0.5025,      0.5035,\n",
       "            0.5045,     0.50551,     0.50651,     0.50751,     0.50851,     0.50951,     0.51051,     0.51151,     0.51251,     0.51351,     0.51451,     0.51552,     0.51652,     0.51752,     0.51852,     0.51952,     0.52052,     0.52152,     0.52252,     0.52352,     0.52452,     0.52553,     0.52653,     0.52753,\n",
       "           0.52853,     0.52953,     0.53053,     0.53153,     0.53253,     0.53353,     0.53453,     0.53554,     0.53654,     0.53754,     0.53854,     0.53954,     0.54054,     0.54154,     0.54254,     0.54354,     0.54454,     0.54555,     0.54655,     0.54755,     0.54855,     0.54955,     0.55055,     0.55155,\n",
       "           0.55255,     0.55355,     0.55455,     0.55556,     0.55656,     0.55756,     0.55856,     0.55956,     0.56056,     0.56156,     0.56256,     0.56356,     0.56456,     0.56557,     0.56657,     0.56757,     0.56857,     0.56957,     0.57057,     0.57157,     0.57257,     0.57357,     0.57457,     0.57558,\n",
       "           0.57658,     0.57758,     0.57858,     0.57958,     0.58058,     0.58158,     0.58258,     0.58358,     0.58458,     0.58559,     0.58659,     0.58759,     0.58859,     0.58959,     0.59059,     0.59159,     0.59259,     0.59359,     0.59459,      0.5956,      0.5966,      0.5976,      0.5986,      0.5996,\n",
       "            0.6006,      0.6016,      0.6026,      0.6036,      0.6046,     0.60561,     0.60661,     0.60761,     0.60861,     0.60961,     0.61061,     0.61161,     0.61261,     0.61361,     0.61461,     0.61562,     0.61662,     0.61762,     0.61862,     0.61962,     0.62062,     0.62162,     0.62262,     0.62362,\n",
       "           0.62462,     0.62563,     0.62663,     0.62763,     0.62863,     0.62963,     0.63063,     0.63163,     0.63263,     0.63363,     0.63463,     0.63564,     0.63664,     0.63764,     0.63864,     0.63964,     0.64064,     0.64164,     0.64264,     0.64364,     0.64464,     0.64565,     0.64665,     0.64765,\n",
       "           0.64865,     0.64965,     0.65065,     0.65165,     0.65265,     0.65365,     0.65465,     0.65566,     0.65666,     0.65766,     0.65866,     0.65966,     0.66066,     0.66166,     0.66266,     0.66366,     0.66466,     0.66567,     0.66667,     0.66767,     0.66867,     0.66967,     0.67067,     0.67167,\n",
       "           0.67267,     0.67367,     0.67467,     0.67568,     0.67668,     0.67768,     0.67868,     0.67968,     0.68068,     0.68168,     0.68268,     0.68368,     0.68468,     0.68569,     0.68669,     0.68769,     0.68869,     0.68969,     0.69069,     0.69169,     0.69269,     0.69369,     0.69469,      0.6957,\n",
       "            0.6967,      0.6977,      0.6987,      0.6997,      0.7007,      0.7017,      0.7027,      0.7037,      0.7047,     0.70571,     0.70671,     0.70771,     0.70871,     0.70971,     0.71071,     0.71171,     0.71271,     0.71371,     0.71471,     0.71572,     0.71672,     0.71772,     0.71872,     0.71972,\n",
       "           0.72072,     0.72172,     0.72272,     0.72372,     0.72472,     0.72573,     0.72673,     0.72773,     0.72873,     0.72973,     0.73073,     0.73173,     0.73273,     0.73373,     0.73473,     0.73574,     0.73674,     0.73774,     0.73874,     0.73974,     0.74074,     0.74174,     0.74274,     0.74374,\n",
       "           0.74474,     0.74575,     0.74675,     0.74775,     0.74875,     0.74975,     0.75075,     0.75175,     0.75275,     0.75375,     0.75475,     0.75576,     0.75676,     0.75776,     0.75876,     0.75976,     0.76076,     0.76176,     0.76276,     0.76376,     0.76476,     0.76577,     0.76677,     0.76777,\n",
       "           0.76877,     0.76977,     0.77077,     0.77177,     0.77277,     0.77377,     0.77477,     0.77578,     0.77678,     0.77778,     0.77878,     0.77978,     0.78078,     0.78178,     0.78278,     0.78378,     0.78478,     0.78579,     0.78679,     0.78779,     0.78879,     0.78979,     0.79079,     0.79179,\n",
       "           0.79279,     0.79379,     0.79479,      0.7958,      0.7968,      0.7978,      0.7988,      0.7998,      0.8008,      0.8018,      0.8028,      0.8038,      0.8048,     0.80581,     0.80681,     0.80781,     0.80881,     0.80981,     0.81081,     0.81181,     0.81281,     0.81381,     0.81481,     0.81582,\n",
       "           0.81682,     0.81782,     0.81882,     0.81982,     0.82082,     0.82182,     0.82282,     0.82382,     0.82482,     0.82583,     0.82683,     0.82783,     0.82883,     0.82983,     0.83083,     0.83183,     0.83283,     0.83383,     0.83483,     0.83584,     0.83684,     0.83784,     0.83884,     0.83984,\n",
       "           0.84084,     0.84184,     0.84284,     0.84384,     0.84484,     0.84585,     0.84685,     0.84785,     0.84885,     0.84985,     0.85085,     0.85185,     0.85285,     0.85385,     0.85485,     0.85586,     0.85686,     0.85786,     0.85886,     0.85986,     0.86086,     0.86186,     0.86286,     0.86386,\n",
       "           0.86486,     0.86587,     0.86687,     0.86787,     0.86887,     0.86987,     0.87087,     0.87187,     0.87287,     0.87387,     0.87487,     0.87588,     0.87688,     0.87788,     0.87888,     0.87988,     0.88088,     0.88188,     0.88288,     0.88388,     0.88488,     0.88589,     0.88689,     0.88789,\n",
       "           0.88889,     0.88989,     0.89089,     0.89189,     0.89289,     0.89389,     0.89489,      0.8959,      0.8969,      0.8979,      0.8989,      0.8999,      0.9009,      0.9019,      0.9029,      0.9039,      0.9049,     0.90591,     0.90691,     0.90791,     0.90891,     0.90991,     0.91091,     0.91191,\n",
       "           0.91291,     0.91391,     0.91491,     0.91592,     0.91692,     0.91792,     0.91892,     0.91992,     0.92092,     0.92192,     0.92292,     0.92392,     0.92492,     0.92593,     0.92693,     0.92793,     0.92893,     0.92993,     0.93093,     0.93193,     0.93293,     0.93393,     0.93493,     0.93594,\n",
       "           0.93694,     0.93794,     0.93894,     0.93994,     0.94094,     0.94194,     0.94294,     0.94394,     0.94494,     0.94595,     0.94695,     0.94795,     0.94895,     0.94995,     0.95095,     0.95195,     0.95295,     0.95395,     0.95495,     0.95596,     0.95696,     0.95796,     0.95896,     0.95996,\n",
       "           0.96096,     0.96196,     0.96296,     0.96396,     0.96496,     0.96597,     0.96697,     0.96797,     0.96897,     0.96997,     0.97097,     0.97197,     0.97297,     0.97397,     0.97497,     0.97598,     0.97698,     0.97798,     0.97898,     0.97998,     0.98098,     0.98198,     0.98298,     0.98398,\n",
       "           0.98498,     0.98599,     0.98699,     0.98799,     0.98899,     0.98999,     0.99099,     0.99199,     0.99299,     0.99399,     0.99499,       0.996,       0.997,       0.998,       0.999,           1]), array([[    0.89038,     0.89038,     0.89015,     0.88986,     0.88966,     0.88944,     0.88926,     0.88909,     0.88891,     0.88871,     0.88852,     0.88832,     0.88813,     0.88797,     0.88779,     0.88762,     0.88745,     0.88723,     0.88706,     0.88691,      0.8868,     0.88665,     0.88651,\n",
       "            0.88633,     0.88615,     0.88601,     0.88589,     0.88571,     0.88557,      0.8854,     0.88521,     0.88504,     0.88486,     0.88468,      0.8845,     0.88434,     0.88415,     0.88401,     0.88383,     0.88369,     0.88347,     0.88328,     0.88312,     0.88289,     0.88273,     0.88257,\n",
       "            0.88237,     0.88222,     0.88206,     0.88192,     0.88179,     0.88162,     0.88143,     0.88128,     0.88111,     0.88094,      0.8807,     0.88055,     0.88033,     0.88013,     0.87997,      0.8798,     0.87968,     0.87947,     0.87929,     0.87915,       0.879,     0.87883,     0.87866,\n",
       "            0.87846,     0.87831,     0.87811,     0.87792,      0.8777,     0.87747,     0.87733,     0.87716,     0.87696,     0.87677,     0.87665,     0.87644,     0.87627,     0.87615,     0.87594,     0.87576,     0.87548,     0.87533,      0.8752,     0.87503,     0.87481,     0.87458,     0.87438,\n",
       "            0.87417,     0.87393,     0.87379,     0.87366,      0.8735,     0.87329,     0.87306,     0.87288,      0.8727,     0.87249,     0.87235,     0.87215,     0.87197,     0.87174,     0.87156,     0.87135,     0.87123,     0.87104,     0.87081,     0.87063,     0.87041,      0.8703,     0.87011,\n",
       "            0.86993,     0.86971,     0.86957,     0.86936,     0.86918,     0.86894,     0.86874,     0.86857,     0.86835,     0.86821,     0.86795,     0.86778,     0.86764,     0.86739,     0.86721,     0.86702,     0.86684,     0.86654,     0.86637,     0.86617,     0.86604,     0.86574,     0.86553,\n",
       "            0.86535,     0.86514,     0.86493,     0.86474,     0.86456,     0.86433,     0.86413,     0.86384,     0.86362,     0.86342,     0.86324,     0.86307,     0.86286,     0.86259,     0.86236,     0.86216,     0.86194,     0.86172,      0.8615,     0.86128,     0.86119,     0.86099,     0.86078,\n",
       "            0.86052,     0.86031,     0.86005,     0.85983,     0.85959,     0.85938,     0.85927,     0.85908,     0.85881,     0.85854,     0.85833,     0.85803,      0.8579,     0.85769,     0.85737,     0.85713,       0.857,     0.85678,      0.8565,      0.8562,     0.85608,     0.85581,     0.85551,\n",
       "            0.85537,      0.8551,     0.85483,     0.85454,     0.85439,      0.8541,     0.85379,     0.85364,      0.8534,     0.85316,     0.85302,     0.85271,      0.8524,     0.85222,     0.85194,     0.85178,     0.85147,     0.85117,     0.85101,     0.85063,     0.85043,      0.8501,     0.84994,\n",
       "            0.84959,     0.84921,     0.84904,      0.8487,     0.84852,     0.84818,     0.84798,     0.84765,     0.84751,      0.8472,     0.84699,     0.84658,     0.84644,     0.84605,     0.84589,     0.84556,     0.84536,     0.84499,      0.8448,     0.84437,     0.84418,     0.84375,     0.84352,\n",
       "            0.84313,     0.84292,     0.84274,     0.84229,     0.84205,     0.84168,      0.8415,     0.84109,     0.84089,      0.8407,     0.84031,     0.84004,     0.83965,     0.83943,     0.83926,     0.83877,     0.83851,     0.83828,     0.83792,     0.83769,     0.83724,       0.837,     0.83677,\n",
       "            0.83629,     0.83608,     0.83588,     0.83549,      0.8353,     0.83507,     0.83469,     0.83448,       0.834,     0.83375,     0.83352,     0.83327,     0.83277,     0.83253,     0.83232,     0.83186,     0.83157,     0.83132,     0.83084,     0.83056,      0.8303,     0.83003,     0.82955,\n",
       "            0.82931,     0.82906,     0.82879,     0.82831,     0.82805,     0.82779,     0.82729,     0.82702,     0.82673,     0.82648,     0.82598,      0.8257,     0.82542,     0.82514,     0.82457,     0.82435,     0.82408,     0.82383,      0.8233,     0.82299,     0.82272,      0.8224,      0.8221,\n",
       "             0.8215,     0.82122,     0.82091,     0.82061,     0.81998,     0.81968,     0.81935,     0.81901,     0.81872,     0.81806,     0.81773,     0.81739,     0.81704,     0.81641,     0.81612,     0.81586,     0.81553,     0.81517,      0.8148,     0.81443,     0.81374,     0.81339,     0.81307,\n",
       "            0.81276,     0.81239,     0.81176,     0.81153,     0.81124,     0.81094,     0.81059,     0.81026,     0.80965,     0.80931,     0.80898,     0.80857,     0.80825,     0.80791,     0.80755,     0.80685,     0.80655,     0.80622,     0.80589,     0.80553,     0.80522,     0.80452,     0.80415,\n",
       "            0.80382,     0.80352,     0.80317,     0.80274,     0.80231,     0.80162,     0.80127,     0.80092,     0.80058,     0.80023,     0.79986,     0.79955,      0.7992,     0.79888,     0.79849,      0.7978,     0.79746,     0.79708,     0.79678,     0.79634,       0.796,     0.79559,     0.79523,\n",
       "            0.79488,     0.79448,     0.79382,     0.79345,     0.79309,     0.79271,     0.79238,       0.792,     0.79164,     0.79128,     0.79086,     0.79053,     0.78975,     0.78935,     0.78896,     0.78861,     0.78816,      0.7878,     0.78743,     0.78702,     0.78665,     0.78631,     0.78562,\n",
       "            0.78524,     0.78487,     0.78442,     0.78408,     0.78368,     0.78328,     0.78291,     0.78244,     0.78203,     0.78165,     0.78125,     0.78085,     0.78048,     0.78003,      0.7796,     0.77916,     0.77842,     0.77801,     0.77762,     0.77724,     0.77686,     0.77643,     0.77604,\n",
       "             0.7756,      0.7752,     0.77481,      0.7744,     0.77403,      0.7736,     0.77315,     0.77277,     0.77237,     0.77157,     0.77111,     0.77073,     0.77033,     0.76991,     0.76944,     0.76905,     0.76871,     0.76831,      0.7679,      0.7675,     0.76698,     0.76655,     0.76614,\n",
       "            0.76565,     0.76519,     0.76475,     0.76433,     0.76392,      0.7635,      0.7631,     0.76264,     0.76219,      0.7617,     0.76124,     0.76078,     0.76034,     0.75942,     0.75892,     0.75843,     0.75801,      0.7576,     0.75716,     0.75677,     0.75636,     0.75592,     0.75552,\n",
       "            0.75506,     0.75456,     0.75408,     0.75365,     0.75319,     0.75271,     0.75217,     0.75164,     0.75115,     0.75065,     0.75019,     0.74963,     0.74913,     0.74864,     0.74816,     0.74772,     0.74721,     0.74668,     0.74617,     0.74568,     0.74463,     0.74413,     0.74359,\n",
       "            0.74301,     0.74256,     0.74198,     0.74146,      0.7409,     0.74036,     0.73979,     0.73932,     0.73881,     0.73828,     0.73784,     0.73726,     0.73669,     0.73617,     0.73567,     0.73515,     0.73465,     0.73409,     0.73353,     0.73301,     0.73241,     0.73183,     0.73128,\n",
       "             0.7307,     0.73023,      0.7297,     0.72917,     0.72863,     0.72815,     0.72758,       0.727,     0.72644,     0.72584,     0.72532,     0.72482,     0.72432,     0.72375,     0.72265,     0.72208,     0.72148,     0.72088,     0.72031,     0.71972,     0.71912,     0.71856,     0.71792,\n",
       "            0.71735,      0.7168,     0.71627,      0.7157,     0.71511,     0.71451,     0.71388,     0.71323,     0.71269,     0.71213,     0.71157,      0.7109,      0.7103,     0.70962,     0.70898,     0.70842,      0.7078,     0.70715,     0.70652,     0.70584,     0.70524,     0.70469,     0.70409,\n",
       "            0.70337,     0.70269,      0.7021,     0.70147,     0.70082,     0.69952,     0.69887,     0.69817,     0.69751,     0.69672,     0.69596,     0.69532,     0.69459,      0.6939,     0.69311,     0.69242,     0.69173,     0.69109,     0.69036,     0.68969,     0.68894,     0.68822,     0.68758,\n",
       "            0.68691,     0.68626,     0.68554,     0.68482,      0.6841,     0.68261,     0.68196,     0.68115,     0.68043,     0.67961,     0.67892,     0.67818,      0.6775,     0.67673,     0.67589,     0.67514,     0.67443,     0.67367,     0.67287,     0.67207,     0.67133,     0.66979,     0.66899,\n",
       "             0.6682,     0.66744,     0.66664,     0.66591,     0.66512,     0.66434,     0.66359,     0.66276,     0.66209,     0.66052,      0.6597,     0.65882,       0.658,     0.65722,     0.65633,     0.65553,      0.6546,     0.65382,     0.65297,     0.65213,     0.65134,     0.65048,     0.64888,\n",
       "             0.6481,     0.64715,     0.64628,     0.64538,     0.64445,     0.64354,     0.64257,      0.6416,     0.64072,     0.63972,     0.63885,     0.63714,     0.63616,     0.63527,      0.6343,     0.63344,     0.63248,     0.63147,     0.63061,     0.62874,     0.62787,     0.62692,     0.62594,\n",
       "            0.62496,     0.62394,     0.62305,       0.622,     0.62094,     0.61906,     0.61797,     0.61691,     0.61587,     0.61478,     0.61373,     0.61272,      0.6117,     0.61057,     0.60855,     0.60761,     0.60654,     0.60538,     0.60331,     0.60215,     0.60105,         0.6,     0.59892,\n",
       "            0.59773,     0.59663,     0.59557,     0.59319,     0.59208,     0.59094,     0.58972,     0.58848,     0.58729,      0.5861,     0.58368,     0.58249,     0.58135,     0.57895,     0.57765,     0.57637,     0.57513,     0.57395,     0.57264,     0.57137,     0.56855,     0.56715,     0.56587,\n",
       "            0.56444,     0.56312,     0.56185,     0.55915,     0.55789,     0.55651,     0.55518,     0.55371,     0.55084,      0.5494,     0.54664,     0.54524,     0.54371,     0.54217,     0.54074,     0.53761,     0.53605,     0.53361,     0.53324,     0.53046,     0.52738,     0.52707,     0.52418,\n",
       "            0.52384,     0.52088,     0.51772,     0.51735,     0.51451,     0.51418,     0.51095,     0.50779,     0.50432,     0.50394,     0.50085,     0.50041,     0.49684,     0.49357,     0.49322,     0.48944,     0.48602,     0.48569,     0.48239,     0.47855,     0.47812,     0.47453,     0.47407,\n",
       "            0.47002,     0.46646,     0.46609,     0.46204,     0.45806,     0.45422,     0.45379,      0.4499,     0.44575,     0.44525,     0.44149,     0.43693,     0.43655,     0.43242,       0.428,     0.42758,     0.42357,     0.41901,     0.41856,     0.41441,     0.40971,     0.40928,     0.40453,\n",
       "            0.39978,     0.39479,     0.39437,     0.38947,     0.38496,     0.37997,     0.37953,     0.37489,     0.36967,     0.36921,     0.36403,     0.35915,     0.35866,     0.35311,     0.34817,      0.3429,     0.34245,     0.33754,     0.33227,      0.3318,     0.32598,     0.32023,     0.31508,\n",
       "            0.30937,     0.30888,     0.30312,      0.2979,     0.29213,     0.29166,     0.28605,     0.28053,     0.27456,     0.27411,     0.26819,     0.26284,     0.25693,     0.25643,     0.25051,     0.24481,     0.23943,     0.23373,     0.22779,     0.22207,     0.22171,     0.21595,     0.21057,\n",
       "            0.20465,     0.19887,     0.19847,      0.1927,     0.18717,      0.1811,     0.17525,     0.17491,     0.16934,     0.16377,     0.15812,     0.15251,     0.14677,     0.14646,     0.14066,     0.12996,     0.12967,     0.12422,     0.11869,     0.11383,     0.10886,     0.10378,    0.098845,\n",
       "           0.098638,    0.093721,    0.088818,    0.084252,    0.079858,    0.075572,    0.071292,    0.066953,    0.062821,     0.05879,     0.05865,    0.054677,    0.047558,    0.044183,     0.04088,    0.037852,    0.034783,     0.03181,    0.031779,    0.029126,    0.026539,    0.024164,    0.021869,\n",
       "           0.019753,    0.017806,    0.016154,    0.014458,    0.013013,     0.01144,    0.010184,   0.0089145,   0.0078581,   0.0061756,   0.0053187,    0.004596,   0.0040027,   0.0035175,   0.0029819,    0.002562,   0.0022064,   0.0016507,   0.0014201,   0.0012023,   0.0010174,  0.00082695,  0.00070239,\n",
       "         0.00057201,  0.00048891,  0.00035636,  0.00028249,  0.00022383,  0.00018924,  0.00014098,  0.00012353,  0.00010125,  9.0839e-05,  4.0866e-05,  2.9952e-05,   1.833e-05,  1.4804e-05,  1.2105e-05,  8.6202e-06,           0,           0,           0,           0,           0,           0,           0,\n",
       "                  0,           0,           0,           0,           0,           0,           0,           0,           0,           0,           0,           0,           0,           0,           0,           0,           0,           0,           0,           0,           0,           0,           0,\n",
       "                  0,           0,           0,           0,           0,           0,           0,           0,           0,           0,           0,           0,           0,           0,           0,           0,           0,           0,           0,           0,           0,           0,           0,\n",
       "                  0,           0,           0,           0,           0,           0,           0,           0,           0,           0,           0,           0,           0,           0,           0,           0,           0,           0,           0,           0,           0,           0,           0,\n",
       "                  0,           0,           0,           0,           0,           0,           0,           0,           0,           0,           0,           0,           0,           0,           0,           0,           0,           0,           0,           0,           0,           0,           0,\n",
       "                  0,           0,           0,           0,           0,           0,           0,           0,           0,           0,           0]]), 'Confidence', 'Recall']]\n",
       "fitness: np.float64(0.5811857370940513)\n",
       "keys: ['metrics/precision(B)', 'metrics/recall(B)', 'metrics/mAP50(B)', 'metrics/mAP50-95(B)']\n",
       "maps: array([    0.54773])\n",
       "names: {0: 'object'}\n",
       "plot: True\n",
       "results_dict: {'metrics/precision(B)': np.float64(0.8815858037347034), 'metrics/recall(B)': np.float64(0.8155346862577084), 'metrics/mAP50(B)': np.float64(0.8822772187948149), 'metrics/mAP50-95(B)': np.float64(0.5477311280161886), 'fitness': np.float64(0.5811857370940513)}\n",
       "save_dir: WindowsPath('products/train8')\n",
       "speed: {'preprocess': 0.10373568534851074, 'inference': 3.9717890024185185, 'loss': 0.0004975795745849609, 'postprocess': 2.68870747089386}\n",
       "task: 'detect'"
      ]
     },
     "execution_count": 6,
     "metadata": {},
     "output_type": "execute_result"
    }
   ],
   "source": [
    "model.train(data = r'E:\\Github\\Shelves_monitoring\\data\\SKU-110k-6\\data.yaml' , epochs = 32, imgsz=320, batch=32, project='products')"
   ]
  }
 ],
 "metadata": {
  "kernelspec": {
   "display_name": "shelves",
   "language": "python",
   "name": "python3"
  },
  "language_info": {
   "codemirror_mode": {
    "name": "ipython",
    "version": 3
   },
   "file_extension": ".py",
   "mimetype": "text/x-python",
   "name": "python",
   "nbconvert_exporter": "python",
   "pygments_lexer": "ipython3",
   "version": "3.11.11"
  }
 },
 "nbformat": 4,
 "nbformat_minor": 5
}
